{
 "cells": [
  {
   "cell_type": "markdown",
   "metadata": {
    "colab_type": "text",
    "id": "OWoqFPelT0dk"
   },
   "source": [
    "# CNN Models on MNIST"
   ]
  },
  {
   "cell_type": "markdown",
   "metadata": {
    "colab_type": "text",
    "id": "dxqjvReYT6hy"
   },
   "source": [
    "### Imports"
   ]
  },
  {
   "cell_type": "code",
   "execution_count": 1,
   "metadata": {
    "colab": {
     "base_uri": "https://localhost:8080/",
     "height": 34
    },
    "colab_type": "code",
    "id": "H9EU0e8yzFOm",
    "outputId": "9dc52919-fecc-4469-a339-d41a88e39d95"
   },
   "outputs": [
    {
     "name": "stderr",
     "output_type": "stream",
     "text": [
      "Using TensorFlow backend.\n"
     ]
    }
   ],
   "source": [
    "# Credits: https://github.com/keras-team/keras/blob/master/examples/mnist_cnn.py\n",
    "from __future__ import print_function\n",
    "import keras\n",
    "from keras.datasets import mnist\n",
    "from keras.models import Sequential\n",
    "from keras.layers import Dense, Dropout, Flatten, BatchNormalization\n",
    "from keras.layers import Conv2D, MaxPooling2D\n",
    "from keras import backend as K\n",
    "import warnings"
   ]
  },
  {
   "cell_type": "code",
   "execution_count": 0,
   "metadata": {
    "colab": {},
    "colab_type": "code",
    "id": "vE4Y91DKoZCi"
   },
   "outputs": [],
   "source": [
    "from matplotlib import pyplot as plt"
   ]
  },
  {
   "cell_type": "markdown",
   "metadata": {
    "colab_type": "text",
    "id": "Vai13JTLT98a"
   },
   "source": [
    "### Defining epochs and batch size"
   ]
  },
  {
   "cell_type": "code",
   "execution_count": 0,
   "metadata": {
    "colab": {},
    "colab_type": "code",
    "id": "fQDXd4-vTWDg"
   },
   "outputs": [],
   "source": [
    "batch_size = 128\n",
    "num_classes = 10\n",
    "epochs = 13"
   ]
  },
  {
   "cell_type": "markdown",
   "metadata": {
    "colab_type": "text",
    "id": "iPzmBTmhWZD-"
   },
   "source": [
    "### Pre-processing of Image data"
   ]
  },
  {
   "cell_type": "code",
   "execution_count": 4,
   "metadata": {
    "colab": {
     "base_uri": "https://localhost:8080/",
     "height": 136
    },
    "colab_type": "code",
    "id": "i2vgPBABTfv4",
    "outputId": "d3659835-3815-4d3e-e79f-516e68233561"
   },
   "outputs": [
    {
     "name": "stdout",
     "output_type": "stream",
     "text": [
      "Downloading data from https://s3.amazonaws.com/img-datasets/mnist.npz\n",
      "11493376/11490434 [==============================] - 2s 0us/step\n",
      "x_train shape: (60000, 28, 28, 1)\n",
      "60000 train samples\n",
      "10000 test samples\n",
      "(60000, 28, 28, 1) (60000, 10)\n",
      "(10000, 28, 28, 1) (10000, 10)\n"
     ]
    }
   ],
   "source": [
    "# input image dimensions\n",
    "img_rows, img_cols = 28, 28\n",
    "\n",
    "# the data, split between train and test sets\n",
    "(x_train, y_train), (x_test, y_test) = mnist.load_data()\n",
    "\n",
    "if K.image_data_format() == 'channels_first':\n",
    "    x_train = x_train.reshape(x_train.shape[0], 1, img_rows, img_cols)\n",
    "    x_test = x_test.reshape(x_test.shape[0], 1, img_rows, img_cols)\n",
    "    input_shape = (1, img_rows, img_cols)\n",
    "else:\n",
    "    x_train = x_train.reshape(x_train.shape[0], img_rows, img_cols, 1)\n",
    "    x_test = x_test.reshape(x_test.shape[0], img_rows, img_cols, 1)\n",
    "    input_shape = (img_rows, img_cols, 1)\n",
    "\n",
    "x_train = x_train.astype('float32')\n",
    "x_test = x_test.astype('float32')\n",
    "x_train /= 255\n",
    "x_test /= 255\n",
    "print('x_train shape:', x_train.shape)\n",
    "print(x_train.shape[0], 'train samples')\n",
    "print(x_test.shape[0], 'test samples')\n",
    "\n",
    "# convert class vectors to binary class matrices\n",
    "y_train = keras.utils.to_categorical(y_train, num_classes)\n",
    "y_test = keras.utils.to_categorical(y_test, num_classes)\n",
    "print(x_train.shape, y_train.shape)\n",
    "print(x_test.shape, y_test.shape)"
   ]
  },
  {
   "cell_type": "markdown",
   "metadata": {
    "colab_type": "text",
    "id": "F6dT0n-KWh_G"
   },
   "source": [
    "### Model 1:"
   ]
  },
  {
   "cell_type": "markdown",
   "metadata": {
    "colab_type": "text",
    "id": "BLd0_d7NY9bU"
   },
   "source": [
    "**Planning Architecture of the network. Want to use (5x5) kernels all over the network without any padding at any stage. So the size of layers changes as follows during the network.**\n",
    "<br/><br/>\n",
    "***(layer 28x28) --(5x5 kernel)--> (layer 24x24) --(2x2 pooling s-2)--> (layer 12x12) --(5x5 kernel)--> (layer 8x8) --(2x2 pooling s-2)--> (layer 4x4) --(Flatten)--> Dense --> Dense --> Softmax --> y_pred***\n",
    "<br/><br/>\n",
    "**Channels of CNN and number of hidden layer units changes as follows.**\n",
    "<br/><br/>\n",
    "***(1x28x28) --> (32x24x24) --> (32x12x12) --> (64x8x8) --> (64x4x4) --(Flatten)--> 1024 --> 512 (Dense 1) --> 128 (Dense 2) --> 10 (Softmax)***\n",
    "<br/><br/>\n",
    "**I will add dropouts and batch normalization in between so that our model doesnt overfit.**"
   ]
  },
  {
   "cell_type": "code",
   "execution_count": 5,
   "metadata": {
    "colab": {
     "base_uri": "https://localhost:8080/",
     "height": 870
    },
    "colab_type": "code",
    "id": "RWlweOBES-7Z",
    "outputId": "847b8ecc-db69-42cf-9ce7-119f9fa6617c"
   },
   "outputs": [
    {
     "name": "stdout",
     "output_type": "stream",
     "text": [
      "WARNING:tensorflow:From /usr/local/lib/python3.6/dist-packages/keras/backend/tensorflow_backend.py:66: The name tf.get_default_graph is deprecated. Please use tf.compat.v1.get_default_graph instead.\n",
      "\n",
      "WARNING:tensorflow:From /usr/local/lib/python3.6/dist-packages/keras/backend/tensorflow_backend.py:541: The name tf.placeholder is deprecated. Please use tf.compat.v1.placeholder instead.\n",
      "\n",
      "WARNING:tensorflow:From /usr/local/lib/python3.6/dist-packages/keras/backend/tensorflow_backend.py:4479: The name tf.truncated_normal is deprecated. Please use tf.random.truncated_normal instead.\n",
      "\n",
      "WARNING:tensorflow:From /usr/local/lib/python3.6/dist-packages/keras/backend/tensorflow_backend.py:4267: The name tf.nn.max_pool is deprecated. Please use tf.nn.max_pool2d instead.\n",
      "\n",
      "WARNING:tensorflow:From /usr/local/lib/python3.6/dist-packages/keras/backend/tensorflow_backend.py:148: The name tf.placeholder_with_default is deprecated. Please use tf.compat.v1.placeholder_with_default instead.\n",
      "\n",
      "WARNING:tensorflow:From /usr/local/lib/python3.6/dist-packages/keras/backend/tensorflow_backend.py:3733: calling dropout (from tensorflow.python.ops.nn_ops) with keep_prob is deprecated and will be removed in a future version.\n",
      "Instructions for updating:\n",
      "Please use `rate` instead of `keep_prob`. Rate should be set to `rate = 1 - keep_prob`.\n",
      "WARNING:tensorflow:From /usr/local/lib/python3.6/dist-packages/keras/backend/tensorflow_backend.py:4432: The name tf.random_uniform is deprecated. Please use tf.random.uniform instead.\n",
      "\n",
      "WARNING:tensorflow:From /usr/local/lib/python3.6/dist-packages/keras/optimizers.py:793: The name tf.train.Optimizer is deprecated. Please use tf.compat.v1.train.Optimizer instead.\n",
      "\n",
      "WARNING:tensorflow:From /usr/local/lib/python3.6/dist-packages/tensorflow/python/ops/math_grad.py:1250: add_dispatch_support.<locals>.wrapper (from tensorflow.python.ops.array_ops) is deprecated and will be removed in a future version.\n",
      "Instructions for updating:\n",
      "Use tf.where in 2.0, which has the same broadcast rule as np.where\n",
      "Train on 60000 samples, validate on 10000 samples\n",
      "Epoch 1/13\n",
      "60000/60000 [==============================] - 16s 265us/step - loss: 0.3246 - acc: 0.9014 - val_loss: 0.0560 - val_acc: 0.9800\n",
      "Epoch 2/13\n",
      "60000/60000 [==============================] - 9s 146us/step - loss: 0.1006 - acc: 0.9700 - val_loss: 0.0476 - val_acc: 0.9852\n",
      "Epoch 3/13\n",
      "60000/60000 [==============================] - 9s 146us/step - loss: 0.0679 - acc: 0.9803 - val_loss: 0.0325 - val_acc: 0.9887\n",
      "Epoch 4/13\n",
      "60000/60000 [==============================] - 9s 152us/step - loss: 0.0541 - acc: 0.9835 - val_loss: 0.0330 - val_acc: 0.9894\n",
      "Epoch 5/13\n",
      "60000/60000 [==============================] - 9s 146us/step - loss: 0.0444 - acc: 0.9864 - val_loss: 0.0299 - val_acc: 0.9894\n",
      "Epoch 6/13\n",
      "60000/60000 [==============================] - 9s 146us/step - loss: 0.0397 - acc: 0.9879 - val_loss: 0.0227 - val_acc: 0.9925\n",
      "Epoch 7/13\n",
      "60000/60000 [==============================] - 9s 149us/step - loss: 0.0333 - acc: 0.9896 - val_loss: 0.0227 - val_acc: 0.9931\n",
      "Epoch 8/13\n",
      "60000/60000 [==============================] - 9s 146us/step - loss: 0.0287 - acc: 0.9910 - val_loss: 0.0227 - val_acc: 0.9934\n",
      "Epoch 9/13\n",
      "60000/60000 [==============================] - 9s 147us/step - loss: 0.0271 - acc: 0.9919 - val_loss: 0.0216 - val_acc: 0.9929\n",
      "Epoch 10/13\n",
      "60000/60000 [==============================] - 9s 143us/step - loss: 0.0252 - acc: 0.9924 - val_loss: 0.0220 - val_acc: 0.9932\n",
      "Epoch 11/13\n",
      "60000/60000 [==============================] - 9s 145us/step - loss: 0.0229 - acc: 0.9930 - val_loss: 0.0221 - val_acc: 0.9932\n",
      "Epoch 12/13\n",
      "60000/60000 [==============================] - 9s 145us/step - loss: 0.0208 - acc: 0.9937 - val_loss: 0.0224 - val_acc: 0.9934\n",
      "Epoch 13/13\n",
      "60000/60000 [==============================] - 9s 144us/step - loss: 0.0196 - acc: 0.9941 - val_loss: 0.0249 - val_acc: 0.9936\n",
      "Test loss: 0.024945586624209228\n",
      "Test accuracy: 0.9936\n"
     ]
    }
   ],
   "source": [
    "## Building above model\n",
    "warnings.filterwarnings('ignore')\n",
    "model = Sequential()\n",
    "model.add(Conv2D(32, kernel_size=(5, 5), activation='relu',\n",
    "                 input_shape=input_shape, kernel_initializer='he_normal'))\n",
    "model.add(MaxPooling2D(pool_size=(2, 2)))\n",
    "model.add(Conv2D(64, (5, 5), activation='relu', kernel_initializer='he_normal'))\n",
    "model.add(MaxPooling2D(pool_size=(2, 2)))\n",
    "model.add(Dropout(0.25))\n",
    "model.add(Flatten())\n",
    "model.add(Dense(512, activation='relu', kernel_initializer='he_normal'))\n",
    "model.add(BatchNormalization())\n",
    "model.add(Dropout(0.5))\n",
    "model.add(Dense(128, activation='relu', kernel_initializer='he_normal'))\n",
    "model.add(BatchNormalization())\n",
    "model.add(Dropout(0.5))\n",
    "model.add(Dense(num_classes, activation='softmax'))\n",
    "\n",
    "model.compile(loss=keras.losses.categorical_crossentropy,\n",
    "              optimizer=keras.optimizers.Adadelta(),\n",
    "              metrics=['accuracy'])\n",
    "\n",
    "model1 = model\n",
    "history1 = model.fit(x_train, y_train,\n",
    "          batch_size=batch_size,\n",
    "          epochs=epochs,\n",
    "          verbose=1,\n",
    "          validation_data=(x_test, y_test))\n",
    "score = model.evaluate(x_test, y_test, verbose=0)\n",
    "\n",
    "print('Test loss:', score[0])\n",
    "print('Test accuracy:', score[1])"
   ]
  },
  {
   "cell_type": "code",
   "execution_count": 6,
   "metadata": {
    "colab": {
     "base_uri": "https://localhost:8080/",
     "height": 295
    },
    "colab_type": "code",
    "id": "OiIboZLDn6m8",
    "outputId": "ec67e1d1-13f1-4f5e-a980-61db2a740eb4"
   },
   "outputs": [
    {
     "data": {
      "image/png": "[encoded data removed]",
      "text/plain": [
       "<Figure size 432x288 with 1 Axes>"
      ]
     },
     "metadata": {
      "tags": []
     },
     "output_type": "display_data"
    }
   ],
   "source": [
    "val_loss = history1.history['val_loss']\n",
    "loss = history1.history['loss']\n",
    "\n",
    "plt.plot(val_loss, color='b', label='val_loss')\n",
    "plt.plot(loss, color='g', label='train_loss')\n",
    "plt.grid()\n",
    "plt.legend()\n",
    "plt.title('Log-loss for train and test')\n",
    "plt.xlabel('epochs')\n",
    "plt.ylabel('loss')\n",
    "plt.show()"
   ]
  },
  {
   "cell_type": "markdown",
   "metadata": {
    "colab_type": "text",
    "id": "tgXJmWv6pmWb"
   },
   "source": [
    "**This model did pretty good with loss = 0.02494 and accuracy = 99.36 %. And we can train for more epochs (current epochs = 10) as the model is not overfitting yet. Below is summary of the entire model with all layers included (batch normalization and dropouts)**"
   ]
  },
  {
   "cell_type": "code",
   "execution_count": 7,
   "metadata": {
    "colab": {
     "base_uri": "https://localhost:8080/",
     "height": 595
    },
    "colab_type": "code",
    "id": "iyVFIvKXpdRA",
    "outputId": "a0408766-9b33-4b81-f1e8-d183f9e73932"
   },
   "outputs": [
    {
     "name": "stdout",
     "output_type": "stream",
     "text": [
      "Model: \"sequential_1\"\n",
      "_________________________________________________________________\n",
      "Layer (type)                 Output Shape              Param #   \n",
      "=================================================================\n",
      "conv2d_1 (Conv2D)            (None, 24, 24, 32)        832       \n",
      "_________________________________________________________________\n",
      "max_pooling2d_1 (MaxPooling2 (None, 12, 12, 32)        0         \n",
      "_________________________________________________________________\n",
      "conv2d_2 (Conv2D)            (None, 8, 8, 64)          51264     \n",
      "_________________________________________________________________\n",
      "max_pooling2d_2 (MaxPooling2 (None, 4, 4, 64)          0         \n",
      "_________________________________________________________________\n",
      "dropout_1 (Dropout)          (None, 4, 4, 64)          0         \n",
      "_________________________________________________________________\n",
      "flatten_1 (Flatten)          (None, 1024)              0         \n",
      "_________________________________________________________________\n",
      "dense_1 (Dense)              (None, 512)               524800    \n",
      "_________________________________________________________________\n",
      "batch_normalization_1 (Batch (None, 512)               2048      \n",
      "_________________________________________________________________\n",
      "dropout_2 (Dropout)          (None, 512)               0         \n",
      "_________________________________________________________________\n",
      "dense_2 (Dense)              (None, 128)               65664     \n",
      "_________________________________________________________________\n",
      "batch_normalization_2 (Batch (None, 128)               512       \n",
      "_________________________________________________________________\n",
      "dropout_3 (Dropout)          (None, 128)               0         \n",
      "_________________________________________________________________\n",
      "dense_3 (Dense)              (None, 10)                1290      \n",
      "=================================================================\n",
      "Total params: 646,410\n",
      "Trainable params: 645,130\n",
      "Non-trainable params: 1,280\n",
      "_________________________________________________________________\n"
     ]
    }
   ],
   "source": [
    "model1.summary()"
   ]
  },
  {
   "cell_type": "markdown",
   "metadata": {
    "colab_type": "text",
    "id": "8sRF779Gn07T"
   },
   "source": [
    "### Model 2:"
   ]
  },
  {
   "cell_type": "markdown",
   "metadata": {
    "colab_type": "text",
    "id": "S8kMACjCrG7G"
   },
   "source": [
    "**Will use only (3x3) kernels in the network without any padding at any stage. The convolution part of the network will be deeper than previous model. So the size of layers changes as follows during the network.**\n",
    "<br/><br/>\n",
    "***(layer 28x28) --(3x3 kernel)--> (layer 26x26) --(2x2 pooling s-2)--> (layer 13x13) --(3x3 kernel)--> (layer 11x11) --(2x2 pooling s-1)--> (layer 10x10) --(3x3 kernel)--> (layer 8x8) --(2x2 pooling s-2)--> (layer 4x4) --(Flatten)--> Dense --> Dense --> Softmax --> y_pred***\n",
    "<br/><br/>\n",
    "**Channels of CNN and number of hidden layer units changes as follows.**\n",
    "<br/><br/>\n",
    "***(1x28x28) --> (32x26x26) --> (32x13x13) --> (64x11x11) --> (64x10x10) --> (128x8x8) --> (128x4x4) --(Flatten)--> 2048 --> 512 (Dense 1) --> 128 (Dense 2) --> 10 (Softmax)***\n",
    "<br/><br/>\n",
    "**I will add dropouts and batch normalization in between so that our model doesnt overfit.**"
   ]
  },
  {
   "cell_type": "code",
   "execution_count": 8,
   "metadata": {
    "colab": {
     "base_uri": "https://localhost:8080/",
     "height": 510
    },
    "colab_type": "code",
    "id": "VsfAF9EsiMS2",
    "outputId": "42f8a060-f9bd-484b-9fed-49b14453d92e"
   },
   "outputs": [
    {
     "name": "stdout",
     "output_type": "stream",
     "text": [
      "Train on 60000 samples, validate on 10000 samples\n",
      "Epoch 1/13\n",
      "60000/60000 [==============================] - 13s 210us/step - loss: 0.2487 - acc: 0.9247 - val_loss: 0.0666 - val_acc: 0.9775\n",
      "Epoch 2/13\n",
      "60000/60000 [==============================] - 11s 184us/step - loss: 0.0739 - acc: 0.9776 - val_loss: 0.0371 - val_acc: 0.9882\n",
      "Epoch 3/13\n",
      "60000/60000 [==============================] - 11s 188us/step - loss: 0.0563 - acc: 0.9829 - val_loss: 0.0413 - val_acc: 0.9885\n",
      "Epoch 4/13\n",
      "60000/60000 [==============================] - 11s 182us/step - loss: 0.0442 - acc: 0.9865 - val_loss: 0.0469 - val_acc: 0.9840\n",
      "Epoch 5/13\n",
      "60000/60000 [==============================] - 11s 181us/step - loss: 0.0370 - acc: 0.9884 - val_loss: 0.0195 - val_acc: 0.9933\n",
      "Epoch 6/13\n",
      "60000/60000 [==============================] - 11s 183us/step - loss: 0.0312 - acc: 0.9904 - val_loss: 0.0303 - val_acc: 0.9902\n",
      "Epoch 7/13\n",
      "60000/60000 [==============================] - 11s 187us/step - loss: 0.0294 - acc: 0.9908 - val_loss: 0.0229 - val_acc: 0.9929\n",
      "Epoch 8/13\n",
      "60000/60000 [==============================] - 11s 183us/step - loss: 0.0267 - acc: 0.9918 - val_loss: 0.0251 - val_acc: 0.9924\n",
      "Epoch 9/13\n",
      "60000/60000 [==============================] - 11s 182us/step - loss: 0.0233 - acc: 0.9928 - val_loss: 0.0412 - val_acc: 0.9903\n",
      "Epoch 10/13\n",
      "60000/60000 [==============================] - 11s 182us/step - loss: 0.0214 - acc: 0.9935 - val_loss: 0.0210 - val_acc: 0.9935\n",
      "Epoch 11/13\n",
      "60000/60000 [==============================] - 11s 185us/step - loss: 0.0195 - acc: 0.9942 - val_loss: 0.0195 - val_acc: 0.9937\n",
      "Epoch 12/13\n",
      "60000/60000 [==============================] - 11s 180us/step - loss: 0.0176 - acc: 0.9951 - val_loss: 0.0240 - val_acc: 0.9929\n",
      "Epoch 13/13\n",
      "60000/60000 [==============================] - 11s 182us/step - loss: 0.0151 - acc: 0.9952 - val_loss: 0.0212 - val_acc: 0.9940\n",
      "Test loss: 0.021181408596438998\n",
      "Test accuracy: 0.994\n"
     ]
    }
   ],
   "source": [
    "## Building above model\n",
    "warnings.filterwarnings('ignore')\n",
    "model = Sequential()\n",
    "model.add(Conv2D(32, kernel_size=(3, 3), activation='relu',\n",
    "                 input_shape=input_shape, kernel_initializer='he_normal'))\n",
    "model.add(MaxPooling2D(pool_size=(2, 2)))\n",
    "model.add(Conv2D(64, (3, 3), activation='relu', kernel_initializer='he_normal'))\n",
    "model.add(MaxPooling2D(pool_size=(2, 2), strides=(1, 1)))\n",
    "model.add(Conv2D(128, (3, 3), activation='relu', kernel_initializer='he_normal'))\n",
    "model.add(MaxPooling2D(pool_size=(2, 2)))\n",
    "model.add(Dropout(0.25))\n",
    "model.add(Flatten())\n",
    "model.add(Dense(512, activation='relu', kernel_initializer='he_normal'))\n",
    "model.add(BatchNormalization())\n",
    "model.add(Dropout(0.5))\n",
    "model.add(Dense(128, activation='relu', kernel_initializer='he_normal'))\n",
    "model.add(BatchNormalization())\n",
    "model.add(Dropout(0.5))\n",
    "model.add(Dense(num_classes, activation='softmax'))\n",
    "\n",
    "model.compile(loss=keras.losses.categorical_crossentropy,\n",
    "              optimizer=keras.optimizers.Adadelta(),\n",
    "              metrics=['accuracy'])\n",
    "\n",
    "model2 = model\n",
    "history2 = model.fit(x_train, y_train,\n",
    "          batch_size=batch_size,\n",
    "          epochs=epochs,\n",
    "          verbose=1,\n",
    "          validation_data=(x_test, y_test))\n",
    "score = model.evaluate(x_test, y_test, verbose=0)\n",
    "\n",
    "print('Test loss:', score[0])\n",
    "print('Test accuracy:', score[1])"
   ]
  },
  {
   "cell_type": "code",
   "execution_count": 9,
   "metadata": {
    "colab": {
     "base_uri": "https://localhost:8080/",
     "height": 295
    },
    "colab_type": "code",
    "id": "FxsRmNOVuwrG",
    "outputId": "eb9332d3-4f9b-401a-a0c2-b8bfdf09be39"
   },
   "outputs": [
    {
     "data": {
      "image/png": "[encoded data removed]",
      "text/plain": [
       "<Figure size 432x288 with 1 Axes>"
      ]
     },
     "metadata": {
      "tags": []
     },
     "output_type": "display_data"
    }
   ],
   "source": [
    "val_loss = history2.history['val_loss']\n",
    "loss = history2.history['loss']\n",
    "\n",
    "plt.plot(val_loss, color='b', label='val_loss')\n",
    "plt.plot(loss, color='g', label='train_loss')\n",
    "plt.grid()\n",
    "plt.legend()\n",
    "plt.title('Log-loss for train and test')\n",
    "plt.xlabel('epochs')\n",
    "plt.ylabel('loss')\n",
    "plt.show()"
   ]
  },
  {
   "cell_type": "markdown",
   "metadata": {
    "colab_type": "text",
    "id": "rtsE2EllFS8-"
   },
   "source": [
    "**Loss and accuracy are slightly good than the previous model (loss = 0.0212, accuracy = 99.4 %). Not sure we can go for more epochs as validation loss seems to be reducing but not steadily. Have to find out by training more epochs.**"
   ]
  },
  {
   "cell_type": "code",
   "execution_count": 10,
   "metadata": {
    "colab": {
     "base_uri": "https://localhost:8080/",
     "height": 663
    },
    "colab_type": "code",
    "id": "sTYgFZjqymBM",
    "outputId": "02de50d1-6cf8-4811-f1ff-a86c213b414d"
   },
   "outputs": [
    {
     "name": "stdout",
     "output_type": "stream",
     "text": [
      "Model: \"sequential_2\"\n",
      "_________________________________________________________________\n",
      "Layer (type)                 Output Shape              Param #   \n",
      "=================================================================\n",
      "conv2d_3 (Conv2D)            (None, 26, 26, 32)        320       \n",
      "_________________________________________________________________\n",
      "max_pooling2d_3 (MaxPooling2 (None, 13, 13, 32)        0         \n",
      "_________________________________________________________________\n",
      "conv2d_4 (Conv2D)            (None, 11, 11, 64)        18496     \n",
      "_________________________________________________________________\n",
      "max_pooling2d_4 (MaxPooling2 (None, 10, 10, 64)        0         \n",
      "_________________________________________________________________\n",
      "conv2d_5 (Conv2D)            (None, 8, 8, 128)         73856     \n",
      "_________________________________________________________________\n",
      "max_pooling2d_5 (MaxPooling2 (None, 4, 4, 128)         0         \n",
      "_________________________________________________________________\n",
      "dropout_4 (Dropout)          (None, 4, 4, 128)         0         \n",
      "_________________________________________________________________\n",
      "flatten_2 (Flatten)          (None, 2048)              0         \n",
      "_________________________________________________________________\n",
      "dense_4 (Dense)              (None, 512)               1049088   \n",
      "_________________________________________________________________\n",
      "batch_normalization_3 (Batch (None, 512)               2048      \n",
      "_________________________________________________________________\n",
      "dropout_5 (Dropout)          (None, 512)               0         \n",
      "_________________________________________________________________\n",
      "dense_5 (Dense)              (None, 128)               65664     \n",
      "_________________________________________________________________\n",
      "batch_normalization_4 (Batch (None, 128)               512       \n",
      "_________________________________________________________________\n",
      "dropout_6 (Dropout)          (None, 128)               0         \n",
      "_________________________________________________________________\n",
      "dense_6 (Dense)              (None, 10)                1290      \n",
      "=================================================================\n",
      "Total params: 1,211,274\n",
      "Trainable params: 1,209,994\n",
      "Non-trainable params: 1,280\n",
      "_________________________________________________________________\n"
     ]
    }
   ],
   "source": [
    "model2.summary()"
   ]
  },
  {
   "cell_type": "markdown",
   "metadata": {
    "colab_type": "text",
    "id": "URkwZrDaCNt-"
   },
   "source": [
    "### Model 3:"
   ]
  },
  {
   "cell_type": "markdown",
   "metadata": {
    "colab_type": "text",
    "id": "QL-HqY-8CQrn"
   },
   "source": [
    "**Will use only (7x7) kernels in the network without any padding at any stage. The convolution part of the network will be less deeper than previous model. So the size of layers changes as follows during the network.**\n",
    "<br/><br/>\n",
    "***(layer 28x28) --(7x7 kernel)--> (layer 22x22) --(2x2 pooling s-2)--> (layer 11x11) --(7x7 kernel)--> (layer 5x5) --(2x2 pooling s-1)--> (layer 4x4) --(Flatten)--> Dense --> Dense --> Softmax --> y_pred***\n",
    "<br/><br/>\n",
    "**Channels of CNN and number of hidden layer units changes as follows.**\n",
    "<br/><br/>\n",
    "***(1x28x28) --> (32x22x22) --> (32x11x11) --> (64x5x5) --> (64x4x4) --(Flatten)--> 1024 --> 512 (Dense 1) --> 128 (Dense 2) --> 10 (Softmax)***\n",
    "<br/><br/>\n",
    "**I will add dropouts and batch normalization in between so that our model doesnt overfit.**"
   ]
  },
  {
   "cell_type": "code",
   "execution_count": 11,
   "metadata": {
    "colab": {
     "base_uri": "https://localhost:8080/",
     "height": 510
    },
    "colab_type": "code",
    "id": "R6EYjQuRCHsM",
    "outputId": "4dac580e-491d-4c39-b54e-6e90b4aefd17"
   },
   "outputs": [
    {
     "name": "stdout",
     "output_type": "stream",
     "text": [
      "Train on 60000 samples, validate on 10000 samples\n",
      "Epoch 1/13\n",
      "60000/60000 [==============================] - 10s 163us/step - loss: 0.3445 - acc: 0.8952 - val_loss: 0.0629 - val_acc: 0.9800\n",
      "Epoch 2/13\n",
      "60000/60000 [==============================] - 9s 143us/step - loss: 0.0863 - acc: 0.9751 - val_loss: 0.0494 - val_acc: 0.9837\n",
      "Epoch 3/13\n",
      "60000/60000 [==============================] - 9s 149us/step - loss: 0.0557 - acc: 0.9836 - val_loss: 0.0390 - val_acc: 0.9887\n",
      "Epoch 4/13\n",
      "60000/60000 [==============================] - 9s 143us/step - loss: 0.0449 - acc: 0.9870 - val_loss: 0.0289 - val_acc: 0.9918\n",
      "Epoch 5/13\n",
      "60000/60000 [==============================] - 9s 146us/step - loss: 0.0348 - acc: 0.9897 - val_loss: 0.0293 - val_acc: 0.9919\n",
      "Epoch 6/13\n",
      "60000/60000 [==============================] - 9s 151us/step - loss: 0.0274 - acc: 0.9916 - val_loss: 0.0249 - val_acc: 0.9923\n",
      "Epoch 7/13\n",
      "60000/60000 [==============================] - 9s 149us/step - loss: 0.0241 - acc: 0.9927 - val_loss: 0.0289 - val_acc: 0.9923\n",
      "Epoch 8/13\n",
      "60000/60000 [==============================] - 9s 148us/step - loss: 0.0208 - acc: 0.9936 - val_loss: 0.0258 - val_acc: 0.9930\n",
      "Epoch 9/13\n",
      "60000/60000 [==============================] - 9s 148us/step - loss: 0.0172 - acc: 0.9949 - val_loss: 0.0293 - val_acc: 0.9918\n",
      "Epoch 10/13\n",
      "60000/60000 [==============================] - 9s 149us/step - loss: 0.0146 - acc: 0.9954 - val_loss: 0.0382 - val_acc: 0.9894\n",
      "Epoch 11/13\n",
      "60000/60000 [==============================] - 9s 150us/step - loss: 0.0146 - acc: 0.9953 - val_loss: 0.0275 - val_acc: 0.9927\n",
      "Epoch 12/13\n",
      "60000/60000 [==============================] - 9s 146us/step - loss: 0.0129 - acc: 0.9962 - val_loss: 0.0281 - val_acc: 0.9921\n",
      "Epoch 13/13\n",
      "60000/60000 [==============================] - 9s 147us/step - loss: 0.0108 - acc: 0.9969 - val_loss: 0.0309 - val_acc: 0.9929\n",
      "Test loss: 0.03089997356858553\n",
      "Test accuracy: 0.9929\n"
     ]
    }
   ],
   "source": [
    "## Building above model\n",
    "warnings.filterwarnings('ignore')\n",
    "model = Sequential()\n",
    "model.add(Conv2D(32, kernel_size=(7, 7), activation='relu',\n",
    "                 input_shape=input_shape, kernel_initializer='he_normal'))\n",
    "model.add(MaxPooling2D(pool_size=(2, 2)))\n",
    "model.add(Conv2D(64, (7, 7), activation='relu', kernel_initializer='he_normal'))\n",
    "model.add(MaxPooling2D(pool_size=(2, 2), strides=(1, 1)))\n",
    "model.add(Dropout(0.25))\n",
    "model.add(Flatten())\n",
    "model.add(Dense(512, activation='relu', kernel_initializer='he_normal'))\n",
    "model.add(BatchNormalization())\n",
    "model.add(Dropout(0.5))\n",
    "model.add(Dense(128, activation='relu', kernel_initializer='he_normal'))\n",
    "model.add(BatchNormalization())\n",
    "model.add(Dropout(0.5))\n",
    "model.add(Dense(num_classes, activation='softmax'))\n",
    "\n",
    "model.compile(loss=keras.losses.categorical_crossentropy,\n",
    "              optimizer=keras.optimizers.Adadelta(),\n",
    "              metrics=['accuracy'])\n",
    "\n",
    "model3 = model\n",
    "history3 = model.fit(x_train, y_train,\n",
    "          batch_size=batch_size,\n",
    "          epochs=epochs,\n",
    "          verbose=1,\n",
    "          validation_data=(x_test, y_test))\n",
    "score = model.evaluate(x_test, y_test, verbose=0)\n",
    "\n",
    "print('Test loss:', score[0])\n",
    "print('Test accuracy:', score[1])"
   ]
  },
  {
   "cell_type": "code",
   "execution_count": 12,
   "metadata": {
    "colab": {
     "base_uri": "https://localhost:8080/",
     "height": 295
    },
    "colab_type": "code",
    "id": "TvWnLaJAELGd",
    "outputId": "a4d94eff-9666-49d1-dc59-15235650defd"
   },
   "outputs": [
    {
     "data": {
      "image/png": "[encoded data removed]",
      "text/plain": [
       "<Figure size 432x288 with 1 Axes>"
      ]
     },
     "metadata": {
      "tags": []
     },
     "output_type": "display_data"
    }
   ],
   "source": [
    "val_loss = history3.history['val_loss']\n",
    "loss = history3.history['loss']\n",
    "\n",
    "plt.plot(val_loss, color='b', label='val_loss')\n",
    "plt.plot(loss, color='g', label='train_loss')\n",
    "plt.grid()\n",
    "plt.legend()\n",
    "plt.title('Log-loss for train and test')\n",
    "plt.xlabel('epochs')\n",
    "plt.ylabel('loss')\n",
    "plt.show()"
   ]
  },
  {
   "cell_type": "markdown",
   "metadata": {
    "colab_type": "text",
    "id": "5IICQ4szGnUX"
   },
   "source": [
    "**Loss and accuracy are not good compared to previous models (loss = 0.0309 and accuracy = 99.29 %). Validation loss seems to be stagnating compared to train loss which might indicate that furthur epochs may lead to overfitting.**"
   ]
  },
  {
   "cell_type": "code",
   "execution_count": 13,
   "metadata": {
    "colab": {
     "base_uri": "https://localhost:8080/",
     "height": 595
    },
    "colab_type": "code",
    "id": "M3sH_BsLFYr0",
    "outputId": "9dbf5402-11ba-4821-fcf7-6fc9dc7c2073"
   },
   "outputs": [
    {
     "name": "stdout",
     "output_type": "stream",
     "text": [
      "Model: \"sequential_3\"\n",
      "_________________________________________________________________\n",
      "Layer (type)                 Output Shape              Param #   \n",
      "=================================================================\n",
      "conv2d_6 (Conv2D)            (None, 22, 22, 32)        1600      \n",
      "_________________________________________________________________\n",
      "max_pooling2d_6 (MaxPooling2 (None, 11, 11, 32)        0         \n",
      "_________________________________________________________________\n",
      "conv2d_7 (Conv2D)            (None, 5, 5, 64)          100416    \n",
      "_________________________________________________________________\n",
      "max_pooling2d_7 (MaxPooling2 (None, 4, 4, 64)          0         \n",
      "_________________________________________________________________\n",
      "dropout_7 (Dropout)          (None, 4, 4, 64)          0         \n",
      "_________________________________________________________________\n",
      "flatten_3 (Flatten)          (None, 1024)              0         \n",
      "_________________________________________________________________\n",
      "dense_7 (Dense)              (None, 512)               524800    \n",
      "_________________________________________________________________\n",
      "batch_normalization_5 (Batch (None, 512)               2048      \n",
      "_________________________________________________________________\n",
      "dropout_8 (Dropout)          (None, 512)               0         \n",
      "_________________________________________________________________\n",
      "dense_8 (Dense)              (None, 128)               65664     \n",
      "_________________________________________________________________\n",
      "batch_normalization_6 (Batch (None, 128)               512       \n",
      "_________________________________________________________________\n",
      "dropout_9 (Dropout)          (None, 128)               0         \n",
      "_________________________________________________________________\n",
      "dense_9 (Dense)              (None, 10)                1290      \n",
      "=================================================================\n",
      "Total params: 696,330\n",
      "Trainable params: 695,050\n",
      "Non-trainable params: 1,280\n",
      "_________________________________________________________________\n"
     ]
    }
   ],
   "source": [
    "model3.summary()"
   ]
  },
  {
   "cell_type": "markdown",
   "metadata": {
    "colab_type": "text",
    "id": "QGerBGzTHJYP"
   },
   "source": [
    "### Model 4:"
   ]
  },
  {
   "cell_type": "markdown",
   "metadata": {
    "colab_type": "text",
    "id": "dx13UgcmHoft"
   },
   "source": [
    "**Let us try models with padding now. (5x5) kernels used with padding (but not for all layers. some layers have (3x3) kernels without padding). The size of layers changes as follows.**\n",
    "<br/><br/>\n",
    "***(layer 28x28) --(5x5 kernel)--> (layer 28x28) --(2x2 pooling s-2)--> (layer 14x14) --(5x5 kernel)--> (layer 14x14) --(2x2 pooling s-2)--> (layer 7x7) --(3x3 kernel No Pad)--> (layer 5x5) --(5x5 kernel No Pad)--> (layer 1x1) --(Flatten)--> Dense --> Dense --> Softmax --> y_pred***\n",
    "<br/><br/>\n",
    "**Channels of CNN and number of hidden layer units changes as follows.**\n",
    "<br/><br/>\n",
    "***(1x28x28) --> (32x28x28) --> (32x14x14) --> (128x14x14) --> (128x7x7) --> (256x5x5) --> (512x1x1) --(Flatten)--> 512 --> 256 (Dense 1) --> 128 (Dense 2) --> 10 (Softmax)***\n",
    "<br/><br/>\n",
    "**I will add dropouts and batch normalization in between so that our model doesnt overfit.**"
   ]
  },
  {
   "cell_type": "code",
   "execution_count": 14,
   "metadata": {
    "colab": {
     "base_uri": "https://localhost:8080/",
     "height": 510
    },
    "colab_type": "code",
    "id": "a-EJq7--Fbqb",
    "outputId": "1d44cfab-f800-4524-adce-cfd374cec331"
   },
   "outputs": [
    {
     "name": "stdout",
     "output_type": "stream",
     "text": [
      "Train on 60000 samples, validate on 10000 samples\n",
      "Epoch 1/13\n",
      "60000/60000 [==============================] - 26s 431us/step - loss: 0.2782 - acc: 0.9191 - val_loss: 0.0375 - val_acc: 0.9885\n",
      "Epoch 2/13\n",
      "60000/60000 [==============================] - 23s 385us/step - loss: 0.0611 - acc: 0.9835 - val_loss: 0.0328 - val_acc: 0.9904\n",
      "Epoch 3/13\n",
      "60000/60000 [==============================] - 23s 388us/step - loss: 0.0364 - acc: 0.9897 - val_loss: 0.0364 - val_acc: 0.9901\n",
      "Epoch 4/13\n",
      "60000/60000 [==============================] - 23s 388us/step - loss: 0.0268 - acc: 0.9922 - val_loss: 0.0334 - val_acc: 0.9904\n",
      "Epoch 5/13\n",
      "60000/60000 [==============================] - 23s 388us/step - loss: 0.0192 - acc: 0.9943 - val_loss: 0.0289 - val_acc: 0.9913\n",
      "Epoch 6/13\n",
      "60000/60000 [==============================] - 23s 387us/step - loss: 0.0144 - acc: 0.9960 - val_loss: 0.0327 - val_acc: 0.9914\n",
      "Epoch 7/13\n",
      "60000/60000 [==============================] - 23s 389us/step - loss: 0.0106 - acc: 0.9970 - val_loss: 0.0261 - val_acc: 0.9937\n",
      "Epoch 8/13\n",
      "60000/60000 [==============================] - 23s 386us/step - loss: 0.0080 - acc: 0.9975 - val_loss: 0.0290 - val_acc: 0.9923\n",
      "Epoch 9/13\n",
      "60000/60000 [==============================] - 23s 386us/step - loss: 0.0068 - acc: 0.9981 - val_loss: 0.0231 - val_acc: 0.9940\n",
      "Epoch 10/13\n",
      "60000/60000 [==============================] - 23s 385us/step - loss: 0.0038 - acc: 0.9988 - val_loss: 0.0247 - val_acc: 0.9937\n",
      "Epoch 11/13\n",
      "60000/60000 [==============================] - 23s 391us/step - loss: 0.0037 - acc: 0.9990 - val_loss: 0.0255 - val_acc: 0.9945\n",
      "Epoch 12/13\n",
      "60000/60000 [==============================] - 23s 390us/step - loss: 0.0026 - acc: 0.9992 - val_loss: 0.0286 - val_acc: 0.9943\n",
      "Epoch 13/13\n",
      "60000/60000 [==============================] - 23s 386us/step - loss: 0.0020 - acc: 0.9994 - val_loss: 0.0288 - val_acc: 0.9937\n",
      "Test loss: 0.028838168385518566\n",
      "Test accuracy: 0.9937\n"
     ]
    }
   ],
   "source": [
    "## Building above model\n",
    "warnings.filterwarnings('ignore')\n",
    "model = Sequential()\n",
    "model.add(Conv2D(32, kernel_size=(5, 5), activation='relu', padding='same',\n",
    "                 input_shape=input_shape, kernel_initializer='he_normal'))\n",
    "model.add(MaxPooling2D(pool_size=(2, 2)))\n",
    "model.add(Conv2D(128, (5, 5), activation='relu', padding='same',\n",
    "                 kernel_initializer='he_normal'))\n",
    "model.add(MaxPooling2D(pool_size=(2, 2)))\n",
    "model.add(Conv2D(256, (3, 3), activation='relu', kernel_initializer='he_normal'))\n",
    "model.add(Conv2D(512, (5, 5), activation='relu', kernel_initializer='he_normal'))\n",
    "model.add(Dropout(0.25))\n",
    "model.add(Flatten())\n",
    "model.add(Dense(256, activation='relu', kernel_initializer='he_normal'))\n",
    "model.add(BatchNormalization())\n",
    "model.add(Dropout(0.5))\n",
    "model.add(Dense(128, activation='relu', kernel_initializer='he_normal'))\n",
    "model.add(BatchNormalization())\n",
    "model.add(Dropout(0.5))\n",
    "model.add(Dense(num_classes, activation='softmax'))\n",
    "\n",
    "model.compile(loss=keras.losses.categorical_crossentropy,\n",
    "              optimizer=keras.optimizers.Adadelta(),\n",
    "              metrics=['accuracy'])\n",
    "\n",
    "model4 = model\n",
    "history4 = model.fit(x_train, y_train,\n",
    "          batch_size=batch_size,\n",
    "          epochs=epochs,\n",
    "          verbose=1,\n",
    "          validation_data=(x_test, y_test))\n",
    "score = model.evaluate(x_test, y_test, verbose=0)\n",
    "\n",
    "print('Test loss:', score[0])\n",
    "print('Test accuracy:', score[1])"
   ]
  },
  {
   "cell_type": "code",
   "execution_count": 15,
   "metadata": {
    "colab": {
     "base_uri": "https://localhost:8080/",
     "height": 295
    },
    "colab_type": "code",
    "id": "5UFJbAcbMdxe",
    "outputId": "cc6b1c6d-b167-4560-cfad-36504ef97ebc"
   },
   "outputs": [
    {
     "data": {
      "image/png": "[encoded data removed]",
      "text/plain": [
       "<Figure size 432x288 with 1 Axes>"
      ]
     },
     "metadata": {
      "tags": []
     },
     "output_type": "display_data"
    }
   ],
   "source": [
    "val_loss = history4.history['val_loss']\n",
    "loss = history4.history['loss']\n",
    "\n",
    "plt.plot(val_loss, color='b', label='val_loss')\n",
    "plt.plot(loss, color='g', label='train_loss')\n",
    "plt.grid()\n",
    "plt.legend()\n",
    "plt.title('Log-loss for train and test')\n",
    "plt.xlabel('epochs')\n",
    "plt.ylabel('loss')\n",
    "plt.show()"
   ]
  },
  {
   "cell_type": "markdown",
   "metadata": {
    "colab_type": "text",
    "id": "7RcHlYt4SQX_"
   },
   "source": [
    "**This model seems to be doing good as accuracy values in some epochs is better than other models but there is some overfit in the model as train loss is lot less than validation loss (train at last epoch = 0.002 which is nearly zero)**"
   ]
  },
  {
   "cell_type": "code",
   "execution_count": 16,
   "metadata": {
    "colab": {
     "base_uri": "https://localhost:8080/",
     "height": 663
    },
    "colab_type": "code",
    "id": "o-ZhmJkfMoov",
    "outputId": "daa7a9a0-0ed5-454b-d2cd-ec0b51321da3"
   },
   "outputs": [
    {
     "name": "stdout",
     "output_type": "stream",
     "text": [
      "Model: \"sequential_4\"\n",
      "_________________________________________________________________\n",
      "Layer (type)                 Output Shape              Param #   \n",
      "=================================================================\n",
      "conv2d_8 (Conv2D)            (None, 28, 28, 32)        832       \n",
      "_________________________________________________________________\n",
      "max_pooling2d_8 (MaxPooling2 (None, 14, 14, 32)        0         \n",
      "_________________________________________________________________\n",
      "conv2d_9 (Conv2D)            (None, 14, 14, 128)       102528    \n",
      "_________________________________________________________________\n",
      "max_pooling2d_9 (MaxPooling2 (None, 7, 7, 128)         0         \n",
      "_________________________________________________________________\n",
      "conv2d_10 (Conv2D)           (None, 5, 5, 256)         295168    \n",
      "_________________________________________________________________\n",
      "conv2d_11 (Conv2D)           (None, 1, 1, 512)         3277312   \n",
      "_________________________________________________________________\n",
      "dropout_10 (Dropout)         (None, 1, 1, 512)         0         \n",
      "_________________________________________________________________\n",
      "flatten_4 (Flatten)          (None, 512)               0         \n",
      "_________________________________________________________________\n",
      "dense_10 (Dense)             (None, 256)               131328    \n",
      "_________________________________________________________________\n",
      "batch_normalization_7 (Batch (None, 256)               1024      \n",
      "_________________________________________________________________\n",
      "dropout_11 (Dropout)         (None, 256)               0         \n",
      "_________________________________________________________________\n",
      "dense_11 (Dense)             (None, 128)               32896     \n",
      "_________________________________________________________________\n",
      "batch_normalization_8 (Batch (None, 128)               512       \n",
      "_________________________________________________________________\n",
      "dropout_12 (Dropout)         (None, 128)               0         \n",
      "_________________________________________________________________\n",
      "dense_12 (Dense)             (None, 10)                1290      \n",
      "=================================================================\n",
      "Total params: 3,842,890\n",
      "Trainable params: 3,842,122\n",
      "Non-trainable params: 768\n",
      "_________________________________________________________________\n"
     ]
    }
   ],
   "source": [
    "model4.summary()"
   ]
  },
  {
   "cell_type": "markdown",
   "metadata": {
    "colab_type": "text",
    "id": "VfqHsFcFMxWC"
   },
   "source": [
    "### Model 5:"
   ]
  },
  {
   "cell_type": "markdown",
   "metadata": {
    "colab_type": "text",
    "id": "BDQDncFBMxWH"
   },
   "source": [
    "**Let us try models with padding now. (3x3) kernels used with padding (but not for all layers. some layers dont have padding). The size of layers changes as follows.**\n",
    "<br/><br/>\n",
    "***(layer 28x28) --(3x3 kernel)--> (layer 28x28) --(2x2 pooling s-2)--> (layer 14x14) --(3x3 kernel)--> (layer 14x14) --(2x2 pooling s-2)--> (layer 7x7) --(3x3 kernel No Pad)--> (layer 5x5) --(2x2 pooling s-1)--> (layer 4x4) --(Flatten)--> Dense --> Dense --> Softmax --> y_pred***\n",
    "<br/><br/>\n",
    "**Channels of CNN and number of hidden layer units changes as follows.**\n",
    "<br/><br/>\n",
    "***(1x28x28) --> (32x28x28) --> (32x14x14) --> (64x14x14) --> (64x7x7) --> (128x5x5) --> (128x4x4) --(Flatten)--> 2048 --> 512 (Dense 1) --> 128 (Dense 2) --> 10 (Softmax)***\n",
    "<br/><br/>\n",
    "**I will add dropouts and batch normalization in between so that our model doesnt overfit.**"
   ]
  },
  {
   "cell_type": "code",
   "execution_count": 17,
   "metadata": {
    "colab": {
     "base_uri": "https://localhost:8080/",
     "height": 510
    },
    "colab_type": "code",
    "id": "lhKCC9jfMxWI",
    "outputId": "782f28cd-02fe-4f3e-dea1-d38d00c29aa5"
   },
   "outputs": [
    {
     "name": "stdout",
     "output_type": "stream",
     "text": [
      "Train on 60000 samples, validate on 10000 samples\n",
      "Epoch 1/13\n",
      "60000/60000 [==============================] - 13s 216us/step - loss: 0.2542 - acc: 0.9228 - val_loss: 0.0701 - val_acc: 0.9753\n",
      "Epoch 2/13\n",
      "60000/60000 [==============================] - 11s 177us/step - loss: 0.0726 - acc: 0.9779 - val_loss: 0.0440 - val_acc: 0.9865\n",
      "Epoch 3/13\n",
      "60000/60000 [==============================] - 11s 175us/step - loss: 0.0524 - acc: 0.9844 - val_loss: 0.0374 - val_acc: 0.9892\n",
      "Epoch 4/13\n",
      "60000/60000 [==============================] - 11s 176us/step - loss: 0.0415 - acc: 0.9869 - val_loss: 0.0300 - val_acc: 0.9899\n",
      "Epoch 5/13\n",
      "60000/60000 [==============================] - 10s 175us/step - loss: 0.0367 - acc: 0.9891 - val_loss: 0.0242 - val_acc: 0.9923\n",
      "Epoch 6/13\n",
      "60000/60000 [==============================] - 10s 173us/step - loss: 0.0304 - acc: 0.9906 - val_loss: 0.0417 - val_acc: 0.9878\n",
      "Epoch 7/13\n",
      "60000/60000 [==============================] - 11s 175us/step - loss: 0.0251 - acc: 0.9924 - val_loss: 0.0281 - val_acc: 0.9917\n",
      "Epoch 8/13\n",
      "60000/60000 [==============================] - 10s 173us/step - loss: 0.0218 - acc: 0.9931 - val_loss: 0.0349 - val_acc: 0.9895\n",
      "Epoch 9/13\n",
      "60000/60000 [==============================] - 10s 173us/step - loss: 0.0188 - acc: 0.9939 - val_loss: 0.0265 - val_acc: 0.9920\n",
      "Epoch 10/13\n",
      "60000/60000 [==============================] - 10s 173us/step - loss: 0.0165 - acc: 0.9948 - val_loss: 0.0252 - val_acc: 0.9928\n",
      "Epoch 11/13\n",
      "60000/60000 [==============================] - 10s 174us/step - loss: 0.0150 - acc: 0.9952 - val_loss: 0.0254 - val_acc: 0.9922\n",
      "Epoch 12/13\n",
      "60000/60000 [==============================] - 10s 168us/step - loss: 0.0123 - acc: 0.9962 - val_loss: 0.0208 - val_acc: 0.9944\n",
      "Epoch 13/13\n",
      "60000/60000 [==============================] - 10s 169us/step - loss: 0.0104 - acc: 0.9968 - val_loss: 0.0241 - val_acc: 0.9938\n",
      "Test loss: 0.024092171756089693\n",
      "Test accuracy: 0.9938\n"
     ]
    }
   ],
   "source": [
    "## Building above model\n",
    "warnings.filterwarnings('ignore')\n",
    "model = Sequential()\n",
    "model.add(Conv2D(32, kernel_size=(3, 3), activation='relu', padding='same',\n",
    "                 input_shape=input_shape, kernel_initializer='he_normal'))\n",
    "model.add(MaxPooling2D(pool_size=(2, 2)))\n",
    "model.add(Conv2D(64, (3, 3), activation='relu', padding='same',\n",
    "                 kernel_initializer='he_normal'))\n",
    "model.add(MaxPooling2D(pool_size=(2, 2)))\n",
    "model.add(Conv2D(128, (3, 3), activation='relu', kernel_initializer='he_normal'))\n",
    "model.add(MaxPooling2D(pool_size=(2, 2), strides=(1, 1)))\n",
    "model.add(Dropout(0.25))\n",
    "model.add(Flatten())\n",
    "model.add(Dense(512, activation='relu', kernel_initializer='he_normal'))\n",
    "model.add(BatchNormalization())\n",
    "model.add(Dropout(0.5))\n",
    "model.add(Dense(128, activation='relu', kernel_initializer='he_normal'))\n",
    "model.add(BatchNormalization())\n",
    "model.add(Dropout(0.5))\n",
    "model.add(Dense(num_classes, activation='softmax'))\n",
    "\n",
    "model.compile(loss=keras.losses.categorical_crossentropy,\n",
    "              optimizer=keras.optimizers.Adadelta(),\n",
    "              metrics=['accuracy'])\n",
    "\n",
    "model5 = model\n",
    "history5 = model.fit(x_train, y_train,\n",
    "          batch_size=batch_size,\n",
    "          epochs=epochs,\n",
    "          verbose=1,\n",
    "          validation_data=(x_test, y_test))\n",
    "score = model.evaluate(x_test, y_test, verbose=0)\n",
    "\n",
    "print('Test loss:', score[0])\n",
    "print('Test accuracy:', score[1])"
   ]
  },
  {
   "cell_type": "code",
   "execution_count": 18,
   "metadata": {
    "colab": {
     "base_uri": "https://localhost:8080/",
     "height": 295
    },
    "colab_type": "code",
    "id": "hSa2zJj9MxWN",
    "outputId": "33e3ae2d-e7bb-4031-f6ae-7fe9e5f56c98"
   },
   "outputs": [
    {
     "data": {
      "image/png": "[encoded data removed]",
      "text/plain": [
       "<Figure size 432x288 with 1 Axes>"
      ]
     },
     "metadata": {
      "tags": []
     },
     "output_type": "display_data"
    }
   ],
   "source": [
    "val_loss = history5.history['val_loss']\n",
    "loss = history5.history['loss']\n",
    "\n",
    "plt.plot(val_loss, color='b', label='val_loss')\n",
    "plt.plot(loss, color='g', label='train_loss')\n",
    "plt.grid()\n",
    "plt.legend()\n",
    "plt.title('Log-loss for train and test')\n",
    "plt.xlabel('epochs')\n",
    "plt.ylabel('loss')\n",
    "plt.show()"
   ]
  },
  {
   "cell_type": "markdown",
   "metadata": {
    "colab_type": "text",
    "id": "Ek02mlB5S-f3"
   },
   "source": [
    "**This model is doing good with loss = 0.0241 and accuracy = 99.38 %. And there is not a big overfit problem like previous model. but further epochs may lead to overfitting.**"
   ]
  },
  {
   "cell_type": "code",
   "execution_count": 19,
   "metadata": {
    "colab": {
     "base_uri": "https://localhost:8080/",
     "height": 663
    },
    "colab_type": "code",
    "id": "Fbv0HItFMxWQ",
    "outputId": "85e653d8-4889-4335-f6ef-5edf340e56d4"
   },
   "outputs": [
    {
     "name": "stdout",
     "output_type": "stream",
     "text": [
      "Model: \"sequential_5\"\n",
      "_________________________________________________________________\n",
      "Layer (type)                 Output Shape              Param #   \n",
      "=================================================================\n",
      "conv2d_12 (Conv2D)           (None, 28, 28, 32)        320       \n",
      "_________________________________________________________________\n",
      "max_pooling2d_10 (MaxPooling (None, 14, 14, 32)        0         \n",
      "_________________________________________________________________\n",
      "conv2d_13 (Conv2D)           (None, 14, 14, 64)        18496     \n",
      "_________________________________________________________________\n",
      "max_pooling2d_11 (MaxPooling (None, 7, 7, 64)          0         \n",
      "_________________________________________________________________\n",
      "conv2d_14 (Conv2D)           (None, 5, 5, 128)         73856     \n",
      "_________________________________________________________________\n",
      "max_pooling2d_12 (MaxPooling (None, 4, 4, 128)         0         \n",
      "_________________________________________________________________\n",
      "dropout_13 (Dropout)         (None, 4, 4, 128)         0         \n",
      "_________________________________________________________________\n",
      "flatten_5 (Flatten)          (None, 2048)              0         \n",
      "_________________________________________________________________\n",
      "dense_13 (Dense)             (None, 512)               1049088   \n",
      "_________________________________________________________________\n",
      "batch_normalization_9 (Batch (None, 512)               2048      \n",
      "_________________________________________________________________\n",
      "dropout_14 (Dropout)         (None, 512)               0         \n",
      "_________________________________________________________________\n",
      "dense_14 (Dense)             (None, 128)               65664     \n",
      "_________________________________________________________________\n",
      "batch_normalization_10 (Batc (None, 128)               512       \n",
      "_________________________________________________________________\n",
      "dropout_15 (Dropout)         (None, 128)               0         \n",
      "_________________________________________________________________\n",
      "dense_15 (Dense)             (None, 10)                1290      \n",
      "=================================================================\n",
      "Total params: 1,211,274\n",
      "Trainable params: 1,209,994\n",
      "Non-trainable params: 1,280\n",
      "_________________________________________________________________\n"
     ]
    }
   ],
   "source": [
    "model5.summary()"
   ]
  },
  {
   "cell_type": "markdown",
   "metadata": {
    "colab_type": "text",
    "id": "ykpNwuqRPB_E"
   },
   "source": [
    "### Model 6:"
   ]
  },
  {
   "cell_type": "markdown",
   "metadata": {
    "colab_type": "text",
    "id": "3lle4i4aPB_K"
   },
   "source": [
    "**Let us try models with padding now. (7x7) kernels used with padding (but not for all layers. some layers have (3x3) kernels without padding). The size of layers changes as follows.**\n",
    "<br/><br/>\n",
    "***(layer 28x28) --(7x7 kernel)--> (layer 28x28) --(2x2 pooling s-2)--> (layer 14x14) --(7x7 kernel)--> (layer 14x14) --(2x2 pooling s-2)--> (layer 7x7) --(7x7 kernel No Pad)--> (layer 1x1) --(Flatten)--> Dense --> Dense --> Softmax --> y_pred***\n",
    "<br/><br/>\n",
    "**Channels of CNN and number of hidden layer units changes as follows.**\n",
    "<br/><br/>\n",
    "***(1x28x28) --> (64x28x28) --> (64x14x14) --> (256x14x14) --> (256x7x7) --> (512x1x1) --(Flatten)--> 512 --> 256 (Dense 1) --> 128 (Dense 2) --> 10 (Softmax)***\n",
    "<br/><br/>\n",
    "**I will add dropouts and batch normalization in between so that our model doesnt overfit.**"
   ]
  },
  {
   "cell_type": "code",
   "execution_count": 20,
   "metadata": {
    "colab": {
     "base_uri": "https://localhost:8080/",
     "height": 510
    },
    "colab_type": "code",
    "id": "YFklKQrNPB_L",
    "outputId": "dae4d818-2bea-4fe2-c1ae-882634ce45f1"
   },
   "outputs": [
    {
     "name": "stdout",
     "output_type": "stream",
     "text": [
      "Train on 60000 samples, validate on 10000 samples\n",
      "Epoch 1/13\n",
      "60000/60000 [==============================] - 40s 665us/step - loss: 0.3666 - acc: 0.8933 - val_loss: 0.0437 - val_acc: 0.9867\n",
      "Epoch 2/13\n",
      "60000/60000 [==============================] - 36s 601us/step - loss: 0.0617 - acc: 0.9829 - val_loss: 0.0295 - val_acc: 0.9897\n",
      "Epoch 3/13\n",
      "60000/60000 [==============================] - 36s 601us/step - loss: 0.0395 - acc: 0.9887 - val_loss: 0.0289 - val_acc: 0.9916\n",
      "Epoch 4/13\n",
      "60000/60000 [==============================] - 36s 603us/step - loss: 0.0262 - acc: 0.9926 - val_loss: 0.0304 - val_acc: 0.9896\n",
      "Epoch 5/13\n",
      "60000/60000 [==============================] - 36s 603us/step - loss: 0.0227 - acc: 0.9935 - val_loss: 0.0271 - val_acc: 0.9925\n",
      "Epoch 6/13\n",
      "60000/60000 [==============================] - 36s 598us/step - loss: 0.0154 - acc: 0.9956 - val_loss: 0.0296 - val_acc: 0.9907\n",
      "Epoch 7/13\n",
      "60000/60000 [==============================] - 36s 598us/step - loss: 0.0118 - acc: 0.9965 - val_loss: 0.0269 - val_acc: 0.9925\n",
      "Epoch 8/13\n",
      "60000/60000 [==============================] - 36s 597us/step - loss: 0.0092 - acc: 0.9974 - val_loss: 0.0301 - val_acc: 0.9928\n",
      "Epoch 9/13\n",
      "60000/60000 [==============================] - 36s 599us/step - loss: 0.0067 - acc: 0.9980 - val_loss: 0.0281 - val_acc: 0.9938\n",
      "Epoch 10/13\n",
      "60000/60000 [==============================] - 36s 597us/step - loss: 0.0047 - acc: 0.9987 - val_loss: 0.0251 - val_acc: 0.9942\n",
      "Epoch 11/13\n",
      "60000/60000 [==============================] - 36s 597us/step - loss: 0.0032 - acc: 0.9991 - val_loss: 0.0293 - val_acc: 0.9937\n",
      "Epoch 12/13\n",
      "60000/60000 [==============================] - 36s 599us/step - loss: 0.0044 - acc: 0.9986 - val_loss: 0.0298 - val_acc: 0.9933\n",
      "Epoch 13/13\n",
      "60000/60000 [==============================] - 36s 601us/step - loss: 0.0022 - acc: 0.9994 - val_loss: 0.0299 - val_acc: 0.9938\n",
      "Test loss: 0.029870165106981584\n",
      "Test accuracy: 0.9938\n"
     ]
    }
   ],
   "source": [
    "## Building above model\n",
    "warnings.filterwarnings('ignore')\n",
    "model = Sequential()\n",
    "model.add(Conv2D(64, kernel_size=(7, 7), activation='relu', padding='same',\n",
    "                 input_shape=input_shape, kernel_initializer='he_normal'))\n",
    "model.add(MaxPooling2D(pool_size=(2, 2)))\n",
    "model.add(Conv2D(256, (7, 7), activation='relu', padding='same',\n",
    "                 kernel_initializer='he_normal'))\n",
    "model.add(MaxPooling2D(pool_size=(2, 2)))\n",
    "model.add(Conv2D(512, (7, 7), activation='relu', kernel_initializer='he_normal'))\n",
    "model.add(Dropout(0.25))\n",
    "model.add(Flatten())\n",
    "model.add(Dense(256, activation='relu', kernel_initializer='he_normal'))\n",
    "model.add(BatchNormalization())\n",
    "model.add(Dropout(0.5))\n",
    "model.add(Dense(128, activation='relu', kernel_initializer='he_normal'))\n",
    "model.add(BatchNormalization())\n",
    "model.add(Dropout(0.5))\n",
    "model.add(Dense(num_classes, activation='softmax'))\n",
    "\n",
    "model.compile(loss=keras.losses.categorical_crossentropy,\n",
    "              optimizer=keras.optimizers.Adadelta(),\n",
    "              metrics=['accuracy'])\n",
    "\n",
    "model6 = model\n",
    "history6 = model.fit(x_train, y_train,\n",
    "          batch_size=batch_size,\n",
    "          epochs=epochs,\n",
    "          verbose=1,\n",
    "          validation_data=(x_test, y_test))\n",
    "score = model.evaluate(x_test, y_test, verbose=0)\n",
    "\n",
    "print('Test loss:', score[0])\n",
    "print('Test accuracy:', score[1])"
   ]
  },
  {
   "cell_type": "code",
   "execution_count": 21,
   "metadata": {
    "colab": {
     "base_uri": "https://localhost:8080/",
     "height": 295
    },
    "colab_type": "code",
    "id": "863drsWkPB_T",
    "outputId": "168e59bc-922f-44f4-d410-b2b28f7f0d83"
   },
   "outputs": [
    {
     "data": {
      "image/png": "[encoded data removed]",
      "text/plain": [
       "<Figure size 432x288 with 1 Axes>"
      ]
     },
     "metadata": {
      "tags": []
     },
     "output_type": "display_data"
    }
   ],
   "source": [
    "val_loss = history6.history['val_loss']\n",
    "loss = history6.history['loss']\n",
    "\n",
    "plt.plot(val_loss, color='b', label='val_loss')\n",
    "plt.plot(loss, color='g', label='train_loss')\n",
    "plt.grid()\n",
    "plt.legend()\n",
    "plt.title('Log-loss for train and test')\n",
    "plt.xlabel('epochs')\n",
    "plt.ylabel('loss')\n",
    "plt.show()"
   ]
  },
  {
   "cell_type": "markdown",
   "metadata": {
    "colab_type": "text",
    "id": "TSW2y99FTcaw"
   },
   "source": [
    "**Accuracy of model is good but the loss is not reducing further. This model is good with fewer epochs which can be used to classify. Further epochs may overfit the model**"
   ]
  },
  {
   "cell_type": "code",
   "execution_count": 22,
   "metadata": {
    "colab": {
     "base_uri": "https://localhost:8080/",
     "height": 629
    },
    "colab_type": "code",
    "id": "Xkv2tI7zPB_W",
    "outputId": "d72d6bd3-a4a1-40dd-daf2-5e74a0a05a6b"
   },
   "outputs": [
    {
     "name": "stdout",
     "output_type": "stream",
     "text": [
      "Model: \"sequential_6\"\n",
      "_________________________________________________________________\n",
      "Layer (type)                 Output Shape              Param #   \n",
      "=================================================================\n",
      "conv2d_15 (Conv2D)           (None, 28, 28, 64)        3200      \n",
      "_________________________________________________________________\n",
      "max_pooling2d_13 (MaxPooling (None, 14, 14, 64)        0         \n",
      "_________________________________________________________________\n",
      "conv2d_16 (Conv2D)           (None, 14, 14, 256)       803072    \n",
      "_________________________________________________________________\n",
      "max_pooling2d_14 (MaxPooling (None, 7, 7, 256)         0         \n",
      "_________________________________________________________________\n",
      "conv2d_17 (Conv2D)           (None, 1, 1, 512)         6423040   \n",
      "_________________________________________________________________\n",
      "dropout_16 (Dropout)         (None, 1, 1, 512)         0         \n",
      "_________________________________________________________________\n",
      "flatten_6 (Flatten)          (None, 512)               0         \n",
      "_________________________________________________________________\n",
      "dense_16 (Dense)             (None, 256)               131328    \n",
      "_________________________________________________________________\n",
      "batch_normalization_11 (Batc (None, 256)               1024      \n",
      "_________________________________________________________________\n",
      "dropout_17 (Dropout)         (None, 256)               0         \n",
      "_________________________________________________________________\n",
      "dense_17 (Dense)             (None, 128)               32896     \n",
      "_________________________________________________________________\n",
      "batch_normalization_12 (Batc (None, 128)               512       \n",
      "_________________________________________________________________\n",
      "dropout_18 (Dropout)         (None, 128)               0         \n",
      "_________________________________________________________________\n",
      "dense_18 (Dense)             (None, 10)                1290      \n",
      "=================================================================\n",
      "Total params: 7,396,362\n",
      "Trainable params: 7,395,594\n",
      "Non-trainable params: 768\n",
      "_________________________________________________________________\n"
     ]
    }
   ],
   "source": [
    "model6.summary()"
   ]
  },
  {
   "cell_type": "markdown",
   "metadata": {
    "colab_type": "text",
    "id": "Kd513lv1QtiS"
   },
   "source": [
    "### Model 7:"
   ]
  },
  {
   "cell_type": "markdown",
   "metadata": {
    "colab_type": "text",
    "id": "zqtcOUcMQtiT"
   },
   "source": [
    "**Let us try models with less frequent pooling (for every 2 convolution layer 1 maxpool layer). Not using padding as it gives lot of parameters which seems to be reducing performance of the model. kernels of all sizes are used. The size of layers changes as follows.**\n",
    "<br/><br/>\n",
    "***(layer 28x28) --(5x5 kernel)--> (layer 24x24) --(3x3 kernel)--> (layer 22x22) --(2x2 pooling s-2)--> (layer 11x11) --(5x5 kernel)--> (layer 7x7) --(3x3 kernel)--> (layer 5x5) --(2x2 pooling s-1)--> (layer 4x4) --(Flatten)--> Dense --> Dense --> Softmax --> y_pred***\n",
    "<br/><br/>\n",
    "**Channels of CNN and number of hidden layer units changes as follows.**\n",
    "<br/><br/>\n",
    "***(1x28x28) --> (32x24x24) --> (64x22x22) --> (64x11x11) --> (128x7x7) --> (256x5x5) --> (256x4x4) --(Flatten)--> 4096 --> 512 (Dense 1) --> 128 (Dense 2) --> 10 (Softmax)***\n",
    "<br/><br/>\n",
    "**I will add dropouts and batch normalization in between so that our model doesnt overfit.**"
   ]
  },
  {
   "cell_type": "code",
   "execution_count": 23,
   "metadata": {
    "colab": {
     "base_uri": "https://localhost:8080/",
     "height": 510
    },
    "colab_type": "code",
    "id": "AaHwQ3gkQtiV",
    "outputId": "0c8c6e9d-ddd9-4166-bd3e-4e5c078ea575"
   },
   "outputs": [
    {
     "name": "stdout",
     "output_type": "stream",
     "text": [
      "Train on 60000 samples, validate on 10000 samples\n",
      "Epoch 1/13\n",
      "60000/60000 [==============================] - 19s 325us/step - loss: 0.2210 - acc: 0.9333 - val_loss: 0.0604 - val_acc: 0.9795\n",
      "Epoch 2/13\n",
      "60000/60000 [==============================] - 17s 285us/step - loss: 0.0573 - acc: 0.9835 - val_loss: 0.0392 - val_acc: 0.9875\n",
      "Epoch 3/13\n",
      "60000/60000 [==============================] - 17s 287us/step - loss: 0.0387 - acc: 0.9889 - val_loss: 0.0275 - val_acc: 0.9925\n",
      "Epoch 4/13\n",
      "60000/60000 [==============================] - 17s 287us/step - loss: 0.0299 - acc: 0.9913 - val_loss: 0.0235 - val_acc: 0.9934\n",
      "Epoch 5/13\n",
      "60000/60000 [==============================] - 17s 287us/step - loss: 0.0231 - acc: 0.9933 - val_loss: 0.0198 - val_acc: 0.9940\n",
      "Epoch 6/13\n",
      "60000/60000 [==============================] - 17s 284us/step - loss: 0.0182 - acc: 0.9948 - val_loss: 0.0178 - val_acc: 0.9945\n",
      "Epoch 7/13\n",
      "60000/60000 [==============================] - 17s 286us/step - loss: 0.0137 - acc: 0.9960 - val_loss: 0.0351 - val_acc: 0.9907\n",
      "Epoch 8/13\n",
      "60000/60000 [==============================] - 17s 288us/step - loss: 0.0116 - acc: 0.9966 - val_loss: 0.0244 - val_acc: 0.9940\n",
      "Epoch 9/13\n",
      "60000/60000 [==============================] - 17s 286us/step - loss: 0.0088 - acc: 0.9975 - val_loss: 0.0183 - val_acc: 0.9947\n",
      "Epoch 10/13\n",
      "60000/60000 [==============================] - 17s 286us/step - loss: 0.0080 - acc: 0.9978 - val_loss: 0.0217 - val_acc: 0.9945\n",
      "Epoch 11/13\n",
      "60000/60000 [==============================] - 17s 283us/step - loss: 0.0066 - acc: 0.9981 - val_loss: 0.0199 - val_acc: 0.9954\n",
      "Epoch 12/13\n",
      "60000/60000 [==============================] - 17s 284us/step - loss: 0.0059 - acc: 0.9983 - val_loss: 0.0250 - val_acc: 0.9941\n",
      "Epoch 13/13\n",
      "60000/60000 [==============================] - 17s 287us/step - loss: 0.0042 - acc: 0.9988 - val_loss: 0.0233 - val_acc: 0.9948\n",
      "Test loss: 0.023324923777469486\n",
      "Test accuracy: 0.9948\n"
     ]
    }
   ],
   "source": [
    "## Building above model\n",
    "warnings.filterwarnings('ignore')\n",
    "model = Sequential()\n",
    "model.add(Conv2D(32, kernel_size=(5, 5), activation='relu',\n",
    "                 input_shape=input_shape, kernel_initializer='he_normal'))\n",
    "model.add(Conv2D(64, (3, 3), activation='relu', kernel_initializer='he_normal'))\n",
    "model.add(MaxPooling2D(pool_size=(2, 2)))\n",
    "model.add(Conv2D(128, (5, 5), activation='relu', kernel_initializer='he_normal'))\n",
    "model.add(Conv2D(256, (3, 3), activation='relu', kernel_initializer='he_normal'))\n",
    "model.add(MaxPooling2D(pool_size=(2, 2), strides=(1, 1)))\n",
    "model.add(Dropout(0.25))\n",
    "model.add(Flatten())\n",
    "model.add(Dense(512, activation='relu', kernel_initializer='he_normal'))\n",
    "model.add(BatchNormalization())\n",
    "model.add(Dropout(0.5))\n",
    "model.add(Dense(128, activation='relu', kernel_initializer='he_normal'))\n",
    "model.add(BatchNormalization())\n",
    "model.add(Dropout(0.5))\n",
    "model.add(Dense(num_classes, activation='softmax'))\n",
    "\n",
    "model.compile(loss=keras.losses.categorical_crossentropy,\n",
    "              optimizer=keras.optimizers.Adadelta(),\n",
    "              metrics=['accuracy'])\n",
    "\n",
    "model7 = model\n",
    "history7 = model.fit(x_train, y_train,\n",
    "          batch_size=batch_size,\n",
    "          epochs=epochs,\n",
    "          verbose=1,\n",
    "          validation_data=(x_test, y_test))\n",
    "score = model.evaluate(x_test, y_test, verbose=0)\n",
    "\n",
    "print('Test loss:', score[0])\n",
    "print('Test accuracy:', score[1])"
   ]
  },
  {
   "cell_type": "code",
   "execution_count": 24,
   "metadata": {
    "colab": {
     "base_uri": "https://localhost:8080/",
     "height": 295
    },
    "colab_type": "code",
    "id": "ttDZsvSQQtiY",
    "outputId": "eee78510-978e-4500-8e51-64f67afababa"
   },
   "outputs": [
    {
     "data": {
      "image/png": "[encoded data removed]",
      "text/plain": [
       "<Figure size 432x288 with 1 Axes>"
      ]
     },
     "metadata": {
      "tags": []
     },
     "output_type": "display_data"
    }
   ],
   "source": [
    "val_loss = history7.history['val_loss']\n",
    "loss = history7.history['loss']\n",
    "\n",
    "plt.plot(val_loss, color='b', label='val_loss')\n",
    "plt.plot(loss, color='g', label='train_loss')\n",
    "plt.grid()\n",
    "plt.legend()\n",
    "plt.title('Log-loss for train and test')\n",
    "plt.xlabel('epochs')\n",
    "plt.ylabel('loss')\n",
    "plt.show()"
   ]
  },
  {
   "cell_type": "markdown",
   "metadata": {
    "colab_type": "text",
    "id": "asjSHwzUUFTB"
   },
   "source": [
    "**Best model seen so far. the accuracy is very good and its not randomly good for only one epoch i.e. last few epochs have good accuracy scores which are above 99.4 %. But there seems to be slight overfit problem. further training may harm the performance**"
   ]
  },
  {
   "cell_type": "code",
   "execution_count": 25,
   "metadata": {
    "colab": {
     "base_uri": "https://localhost:8080/",
     "height": 663
    },
    "colab_type": "code",
    "id": "IBDMGFOuQtib",
    "outputId": "87c5bddb-0917-481f-c518-90e4697e82ff"
   },
   "outputs": [
    {
     "name": "stdout",
     "output_type": "stream",
     "text": [
      "Model: \"sequential_7\"\n",
      "_________________________________________________________________\n",
      "Layer (type)                 Output Shape              Param #   \n",
      "=================================================================\n",
      "conv2d_18 (Conv2D)           (None, 24, 24, 32)        832       \n",
      "_________________________________________________________________\n",
      "conv2d_19 (Conv2D)           (None, 22, 22, 64)        18496     \n",
      "_________________________________________________________________\n",
      "max_pooling2d_15 (MaxPooling (None, 11, 11, 64)        0         \n",
      "_________________________________________________________________\n",
      "conv2d_20 (Conv2D)           (None, 7, 7, 128)         204928    \n",
      "_________________________________________________________________\n",
      "conv2d_21 (Conv2D)           (None, 5, 5, 256)         295168    \n",
      "_________________________________________________________________\n",
      "max_pooling2d_16 (MaxPooling (None, 4, 4, 256)         0         \n",
      "_________________________________________________________________\n",
      "dropout_19 (Dropout)         (None, 4, 4, 256)         0         \n",
      "_________________________________________________________________\n",
      "flatten_7 (Flatten)          (None, 4096)              0         \n",
      "_________________________________________________________________\n",
      "dense_19 (Dense)             (None, 512)               2097664   \n",
      "_________________________________________________________________\n",
      "batch_normalization_13 (Batc (None, 512)               2048      \n",
      "_________________________________________________________________\n",
      "dropout_20 (Dropout)         (None, 512)               0         \n",
      "_________________________________________________________________\n",
      "dense_20 (Dense)             (None, 128)               65664     \n",
      "_________________________________________________________________\n",
      "batch_normalization_14 (Batc (None, 128)               512       \n",
      "_________________________________________________________________\n",
      "dropout_21 (Dropout)         (None, 128)               0         \n",
      "_________________________________________________________________\n",
      "dense_21 (Dense)             (None, 10)                1290      \n",
      "=================================================================\n",
      "Total params: 2,686,602\n",
      "Trainable params: 2,685,322\n",
      "Non-trainable params: 1,280\n",
      "_________________________________________________________________\n"
     ]
    }
   ],
   "source": [
    "model7.summary()"
   ]
  },
  {
   "cell_type": "markdown",
   "metadata": {
    "colab_type": "text",
    "id": "thzTvEy01BdJ"
   },
   "source": [
    "### Model 8:"
   ]
  },
  {
   "cell_type": "markdown",
   "metadata": {
    "colab_type": "text",
    "id": "4Pf8khb51BdM"
   },
   "source": [
    "**Let us try models with less frequent pooling (for every 2 convolution layer 1 maxpool layer). Not using padding much as it gives lot of parameters which seems to be reducing performance of the model. kernels of different sizes are used. The size of layers changes as follows.**\n",
    "<br/><br/>\n",
    "***(layer 28x28) --(5x5 kernel padding)--> (layer 28x28) --(5x5 kernel)--> (layer 24x24) --(2x2 pooling s-2)--> (layer 12x12) --(3x3 kernel)--> (layer 10x10) --(3x3 kernel)--> (layer 8x8) --(2x2 pooling s-2)--> (layer 4x4) --(Flatten)--> Dense --> Dense --> Softmax --> y_pred***\n",
    "<br/><br/>\n",
    "**Channels of CNN and number of hidden layer units changes as follows.**\n",
    "<br/><br/>\n",
    "***(1x28x28) --> (32x28x28) --> (64x24x24) --> (64x12x12) --> (128x10x10) --> (256x8x8) --> (256x4x4) --(Flatten)--> 4096 --> 512 (Dense 1) --> 128 (Dense 2) --> 10 (Softmax)***\n",
    "<br/><br/>\n",
    "**I will add dropouts and batch normalization in between so that our model doesnt overfit.**"
   ]
  },
  {
   "cell_type": "code",
   "execution_count": 26,
   "metadata": {
    "colab": {
     "base_uri": "https://localhost:8080/",
     "height": 510
    },
    "colab_type": "code",
    "id": "KOCW9p8k1BdN",
    "outputId": "154b478b-1b8c-4d61-8fbe-f7ff6b63fc6b"
   },
   "outputs": [
    {
     "name": "stdout",
     "output_type": "stream",
     "text": [
      "Train on 60000 samples, validate on 10000 samples\n",
      "Epoch 1/13\n",
      "60000/60000 [==============================] - 21s 350us/step - loss: 0.2238 - acc: 0.9327 - val_loss: 0.0868 - val_acc: 0.9722\n",
      "Epoch 2/13\n",
      "60000/60000 [==============================] - 18s 303us/step - loss: 0.0647 - acc: 0.9811 - val_loss: 0.0332 - val_acc: 0.9896\n",
      "Epoch 3/13\n",
      "60000/60000 [==============================] - 18s 306us/step - loss: 0.0434 - acc: 0.9873 - val_loss: 0.0338 - val_acc: 0.9905\n",
      "Epoch 4/13\n",
      "60000/60000 [==============================] - 18s 302us/step - loss: 0.0349 - acc: 0.9898 - val_loss: 0.0256 - val_acc: 0.9918\n",
      "Epoch 5/13\n",
      "60000/60000 [==============================] - 18s 302us/step - loss: 0.0298 - acc: 0.9911 - val_loss: 0.0165 - val_acc: 0.9945\n",
      "Epoch 6/13\n",
      "60000/60000 [==============================] - 18s 302us/step - loss: 0.0232 - acc: 0.9932 - val_loss: 0.0255 - val_acc: 0.9926\n",
      "Epoch 7/13\n",
      "60000/60000 [==============================] - 18s 302us/step - loss: 0.0198 - acc: 0.9938 - val_loss: 0.0197 - val_acc: 0.9944\n",
      "Epoch 8/13\n",
      "60000/60000 [==============================] - 18s 301us/step - loss: 0.0161 - acc: 0.9949 - val_loss: 0.0248 - val_acc: 0.9927\n",
      "Epoch 9/13\n",
      "60000/60000 [==============================] - 18s 303us/step - loss: 0.0146 - acc: 0.9957 - val_loss: 0.0218 - val_acc: 0.9935\n",
      "Epoch 10/13\n",
      "60000/60000 [==============================] - 18s 302us/step - loss: 0.0132 - acc: 0.9958 - val_loss: 0.0206 - val_acc: 0.9940\n",
      "Epoch 11/13\n",
      "60000/60000 [==============================] - 18s 301us/step - loss: 0.0100 - acc: 0.9969 - val_loss: 0.0284 - val_acc: 0.9930\n",
      "Epoch 12/13\n",
      "60000/60000 [==============================] - 18s 302us/step - loss: 0.0107 - acc: 0.9969 - val_loss: 0.0180 - val_acc: 0.9953\n",
      "Epoch 13/13\n",
      "60000/60000 [==============================] - 18s 303us/step - loss: 0.0078 - acc: 0.9979 - val_loss: 0.0196 - val_acc: 0.9951\n",
      "Test loss: 0.019591454985709335\n",
      "Test accuracy: 0.9951\n"
     ]
    }
   ],
   "source": [
    "## Building above model\n",
    "warnings.filterwarnings('ignore')\n",
    "model = Sequential()\n",
    "model.add(Conv2D(32, kernel_size=(5, 5), activation='relu', padding='same',\n",
    "                 input_shape=input_shape, kernel_initializer='he_normal'))\n",
    "model.add(Conv2D(64, (5, 5), activation='relu', kernel_initializer='he_normal'))\n",
    "model.add(MaxPooling2D(pool_size=(2, 2)))\n",
    "model.add(Conv2D(128, (3, 3), activation='relu', kernel_initializer='he_normal'))\n",
    "model.add(Conv2D(256, (3, 3), activation='relu', kernel_initializer='he_normal'))\n",
    "model.add(MaxPooling2D(pool_size=(2, 2)))\n",
    "model.add(Dropout(0.25))\n",
    "model.add(Flatten())\n",
    "model.add(Dense(512, activation='relu', kernel_initializer='he_normal'))\n",
    "model.add(BatchNormalization())\n",
    "model.add(Dropout(0.5))\n",
    "model.add(Dense(128, activation='relu', kernel_initializer='he_normal'))\n",
    "model.add(BatchNormalization())\n",
    "model.add(Dropout(0.5))\n",
    "model.add(Dense(num_classes, activation='softmax'))\n",
    "\n",
    "model.compile(loss=keras.losses.categorical_crossentropy,\n",
    "              optimizer=keras.optimizers.Adadelta(),\n",
    "              metrics=['accuracy'])\n",
    "\n",
    "model8 = model\n",
    "history8 = model.fit(x_train, y_train,\n",
    "          batch_size=batch_size,\n",
    "          epochs=epochs,\n",
    "          verbose=1,\n",
    "          validation_data=(x_test, y_test))\n",
    "score = model.evaluate(x_test, y_test, verbose=0)\n",
    "\n",
    "print('Test loss:', score[0])\n",
    "print('Test accuracy:', score[1])"
   ]
  },
  {
   "cell_type": "code",
   "execution_count": 27,
   "metadata": {
    "colab": {
     "base_uri": "https://localhost:8080/",
     "height": 295
    },
    "colab_type": "code",
    "id": "xAnzDI5j1BdU",
    "outputId": "d379f19f-cfe6-463d-a18f-8b6b2d0bad08"
   },
   "outputs": [
    {
     "data": {
      "image/png": "[encoded data removed]",
      "text/plain": [
       "<Figure size 432x288 with 1 Axes>"
      ]
     },
     "metadata": {
      "tags": []
     },
     "output_type": "display_data"
    }
   ],
   "source": [
    "val_loss = history8.history['val_loss']\n",
    "loss = history8.history['loss']\n",
    "\n",
    "plt.plot(val_loss, color='b', label='val_loss')\n",
    "plt.plot(loss, color='g', label='train_loss')\n",
    "plt.grid()\n",
    "plt.legend()\n",
    "plt.title('Log-loss for train and test')\n",
    "plt.xlabel('epochs')\n",
    "plt.ylabel('loss')\n",
    "plt.show()"
   ]
  },
  {
   "cell_type": "markdown",
   "metadata": {
    "colab_type": "text",
    "id": "u3QXQQuPU-8A"
   },
   "source": [
    "**This model is also pretty good. The test loss of model is very low. Accuracy reached 99.5 %. but further training may give good accuracy or overfit problems**"
   ]
  },
  {
   "cell_type": "code",
   "execution_count": 28,
   "metadata": {
    "colab": {
     "base_uri": "https://localhost:8080/",
     "height": 663
    },
    "colab_type": "code",
    "id": "inGFArw61BdX",
    "outputId": "bfe43d80-9218-4bd6-cc26-32357fbd3699"
   },
   "outputs": [
    {
     "name": "stdout",
     "output_type": "stream",
     "text": [
      "Model: \"sequential_8\"\n",
      "_________________________________________________________________\n",
      "Layer (type)                 Output Shape              Param #   \n",
      "=================================================================\n",
      "conv2d_22 (Conv2D)           (None, 28, 28, 32)        832       \n",
      "_________________________________________________________________\n",
      "conv2d_23 (Conv2D)           (None, 24, 24, 64)        51264     \n",
      "_________________________________________________________________\n",
      "max_pooling2d_17 (MaxPooling (None, 12, 12, 64)        0         \n",
      "_________________________________________________________________\n",
      "conv2d_24 (Conv2D)           (None, 10, 10, 128)       73856     \n",
      "_________________________________________________________________\n",
      "conv2d_25 (Conv2D)           (None, 8, 8, 256)         295168    \n",
      "_________________________________________________________________\n",
      "max_pooling2d_18 (MaxPooling (None, 4, 4, 256)         0         \n",
      "_________________________________________________________________\n",
      "dropout_22 (Dropout)         (None, 4, 4, 256)         0         \n",
      "_________________________________________________________________\n",
      "flatten_8 (Flatten)          (None, 4096)              0         \n",
      "_________________________________________________________________\n",
      "dense_22 (Dense)             (None, 512)               2097664   \n",
      "_________________________________________________________________\n",
      "batch_normalization_15 (Batc (None, 512)               2048      \n",
      "_________________________________________________________________\n",
      "dropout_23 (Dropout)         (None, 512)               0         \n",
      "_________________________________________________________________\n",
      "dense_23 (Dense)             (None, 128)               65664     \n",
      "_________________________________________________________________\n",
      "batch_normalization_16 (Batc (None, 128)               512       \n",
      "_________________________________________________________________\n",
      "dropout_24 (Dropout)         (None, 128)               0         \n",
      "_________________________________________________________________\n",
      "dense_24 (Dense)             (None, 10)                1290      \n",
      "=================================================================\n",
      "Total params: 2,588,298\n",
      "Trainable params: 2,587,018\n",
      "Non-trainable params: 1,280\n",
      "_________________________________________________________________\n"
     ]
    }
   ],
   "source": [
    "model8.summary()"
   ]
  },
  {
   "cell_type": "markdown",
   "metadata": {
    "colab_type": "text",
    "id": "Q-rthnVk31Et"
   },
   "source": [
    "### Model 9:"
   ]
  },
  {
   "cell_type": "markdown",
   "metadata": {
    "colab_type": "text",
    "id": "zZVx2-cj31Ey"
   },
   "source": [
    "**Let us try one another model with less frequent pooling (for every 2 convolution layer 1 maxpool layer). In previous model we used 5x5 in early layers and 3x3 in later layers. Now we reverse this**\n",
    "<br/><br/>\n",
    "***(layer 28x28) --(3x3 kernel padding)--> (layer 28x28) --(3x3 kernel)--> (layer 26x26) --(2x2 pooling s-2)--> (layer 13x13) --(5x5 kernel)--> (layer 9x9) --(5x5 kernel)--> (layer 5x5) --(2x2 pooling s-1)--> (layer 4x4) --(Flatten)--> Dense --> Dense --> Softmax --> y_pred***\n",
    "<br/><br/>\n",
    "**Channels of CNN and number of hidden layer units changes as follows.**\n",
    "<br/><br/>\n",
    "***(1x28x28) --> (32x28x28) --> (64x26x26) --> (64x13x13) --> (128x9x9) --> (256x5x5) --> (256x4x4) --(Flatten)--> 4096 --> 512 (Dense 1) --> 128 (Dense 2) --> 10 (Softmax)***\n",
    "<br/><br/>\n",
    "**I will add dropouts and batch normalization in between so that our model doesnt overfit.**"
   ]
  },
  {
   "cell_type": "code",
   "execution_count": 29,
   "metadata": {
    "colab": {
     "base_uri": "https://localhost:8080/",
     "height": 510
    },
    "colab_type": "code",
    "id": "sTg4wgyX31E0",
    "outputId": "0ddf27fb-fae7-4565-bac0-6e4e6d9cc94e"
   },
   "outputs": [
    {
     "name": "stdout",
     "output_type": "stream",
     "text": [
      "Train on 60000 samples, validate on 10000 samples\n",
      "Epoch 1/13\n",
      "60000/60000 [==============================] - 25s 420us/step - loss: 0.2029 - acc: 0.9383 - val_loss: 0.0348 - val_acc: 0.9884\n",
      "Epoch 2/13\n",
      "60000/60000 [==============================] - 22s 367us/step - loss: 0.0518 - acc: 0.9850 - val_loss: 0.0426 - val_acc: 0.9868\n",
      "Epoch 3/13\n",
      "60000/60000 [==============================] - 22s 367us/step - loss: 0.0335 - acc: 0.9900 - val_loss: 0.0308 - val_acc: 0.9913\n",
      "Epoch 4/13\n",
      "60000/60000 [==============================] - 22s 367us/step - loss: 0.0250 - acc: 0.9926 - val_loss: 0.0233 - val_acc: 0.9937\n",
      "Epoch 5/13\n",
      "60000/60000 [==============================] - 22s 366us/step - loss: 0.0210 - acc: 0.9942 - val_loss: 0.0251 - val_acc: 0.9928\n",
      "Epoch 6/13\n",
      "60000/60000 [==============================] - 22s 370us/step - loss: 0.0169 - acc: 0.9947 - val_loss: 0.0249 - val_acc: 0.9928\n",
      "Epoch 7/13\n",
      "60000/60000 [==============================] - 22s 365us/step - loss: 0.0120 - acc: 0.9964 - val_loss: 0.0171 - val_acc: 0.9953\n",
      "Epoch 8/13\n",
      "60000/60000 [==============================] - 22s 366us/step - loss: 0.0090 - acc: 0.9974 - val_loss: 0.0242 - val_acc: 0.9937\n",
      "Epoch 9/13\n",
      "60000/60000 [==============================] - 22s 366us/step - loss: 0.0082 - acc: 0.9977 - val_loss: 0.0232 - val_acc: 0.9942\n",
      "Epoch 10/13\n",
      "60000/60000 [==============================] - 22s 365us/step - loss: 0.0063 - acc: 0.9981 - val_loss: 0.0191 - val_acc: 0.9949\n",
      "Epoch 11/13\n",
      "60000/60000 [==============================] - 22s 366us/step - loss: 0.0062 - acc: 0.9982 - val_loss: 0.0213 - val_acc: 0.9945\n",
      "Epoch 12/13\n",
      "60000/60000 [==============================] - 22s 365us/step - loss: 0.0042 - acc: 0.9989 - val_loss: 0.0221 - val_acc: 0.9939\n",
      "Epoch 13/13\n",
      "60000/60000 [==============================] - 22s 366us/step - loss: 0.0035 - acc: 0.9988 - val_loss: 0.0222 - val_acc: 0.9954\n",
      "Test loss: 0.022201177267580988\n",
      "Test accuracy: 0.9954\n"
     ]
    }
   ],
   "source": [
    "## Building above model\n",
    "warnings.filterwarnings('ignore')\n",
    "model = Sequential()\n",
    "model.add(Conv2D(32, kernel_size=(3, 3), activation='relu', padding='same',\n",
    "                 input_shape=input_shape, kernel_initializer='he_normal'))\n",
    "model.add(Conv2D(64, (3, 3), activation='relu', kernel_initializer='he_normal'))\n",
    "model.add(MaxPooling2D(pool_size=(2, 2)))\n",
    "model.add(Conv2D(128, (5, 5), activation='relu', kernel_initializer='he_normal'))\n",
    "model.add(Conv2D(256, (5, 5), activation='relu', kernel_initializer='he_normal'))\n",
    "model.add(MaxPooling2D(pool_size=(2, 2), strides=(1, 1)))\n",
    "model.add(Dropout(0.25))\n",
    "model.add(Flatten())\n",
    "model.add(Dense(512, activation='relu', kernel_initializer='he_normal'))\n",
    "model.add(BatchNormalization())\n",
    "model.add(Dropout(0.5))\n",
    "model.add(Dense(128, activation='relu', kernel_initializer='he_normal'))\n",
    "model.add(BatchNormalization())\n",
    "model.add(Dropout(0.5))\n",
    "model.add(Dense(num_classes, activation='softmax'))\n",
    "\n",
    "model.compile(loss=keras.losses.categorical_crossentropy,\n",
    "              optimizer=keras.optimizers.Adadelta(),\n",
    "              metrics=['accuracy'])\n",
    "\n",
    "model9 = model\n",
    "history9 = model.fit(x_train, y_train,\n",
    "          batch_size=batch_size,\n",
    "          epochs=epochs,\n",
    "          verbose=1,\n",
    "          validation_data=(x_test, y_test))\n",
    "score = model.evaluate(x_test, y_test, verbose=0)\n",
    "\n",
    "print('Test loss:', score[0])\n",
    "print('Test accuracy:', score[1])"
   ]
  },
  {
   "cell_type": "code",
   "execution_count": 30,
   "metadata": {
    "colab": {
     "base_uri": "https://localhost:8080/",
     "height": 295
    },
    "colab_type": "code",
    "id": "C2NTTM1931E7",
    "outputId": "cf629358-ba72-46ee-a62b-e54337a7f547"
   },
   "outputs": [
    {
     "data": {
      "image/png": "[encoded data removed]",
      "text/plain": [
       "<Figure size 432x288 with 1 Axes>"
      ]
     },
     "metadata": {
      "tags": []
     },
     "output_type": "display_data"
    }
   ],
   "source": [
    "val_loss = history9.history['val_loss']\n",
    "loss = history9.history['loss']\n",
    "\n",
    "plt.plot(val_loss, color='b', label='val_loss')\n",
    "plt.plot(loss, color='g', label='train_loss')\n",
    "plt.grid()\n",
    "plt.legend()\n",
    "plt.title('Log-loss for train and test')\n",
    "plt.xlabel('epochs')\n",
    "plt.ylabel('loss')\n",
    "plt.show()"
   ]
  },
  {
   "cell_type": "markdown",
   "metadata": {
    "colab_type": "text",
    "id": "zTY9oB-aVlGA"
   },
   "source": [
    "**This model gave good accuracy and loss but the model is overfitting. So further training may give bad results.**"
   ]
  },
  {
   "cell_type": "code",
   "execution_count": 31,
   "metadata": {
    "colab": {
     "base_uri": "https://localhost:8080/",
     "height": 663
    },
    "colab_type": "code",
    "id": "ln-1Dpc631E_",
    "outputId": "e199e55b-3949-42dc-8de1-70c041531ee9"
   },
   "outputs": [
    {
     "name": "stdout",
     "output_type": "stream",
     "text": [
      "Model: \"sequential_9\"\n",
      "_________________________________________________________________\n",
      "Layer (type)                 Output Shape              Param #   \n",
      "=================================================================\n",
      "conv2d_26 (Conv2D)           (None, 28, 28, 32)        320       \n",
      "_________________________________________________________________\n",
      "conv2d_27 (Conv2D)           (None, 26, 26, 64)        18496     \n",
      "_________________________________________________________________\n",
      "max_pooling2d_19 (MaxPooling (None, 13, 13, 64)        0         \n",
      "_________________________________________________________________\n",
      "conv2d_28 (Conv2D)           (None, 9, 9, 128)         204928    \n",
      "_________________________________________________________________\n",
      "conv2d_29 (Conv2D)           (None, 5, 5, 256)         819456    \n",
      "_________________________________________________________________\n",
      "max_pooling2d_20 (MaxPooling (None, 4, 4, 256)         0         \n",
      "_________________________________________________________________\n",
      "dropout_25 (Dropout)         (None, 4, 4, 256)         0         \n",
      "_________________________________________________________________\n",
      "flatten_9 (Flatten)          (None, 4096)              0         \n",
      "_________________________________________________________________\n",
      "dense_25 (Dense)             (None, 512)               2097664   \n",
      "_________________________________________________________________\n",
      "batch_normalization_17 (Batc (None, 512)               2048      \n",
      "_________________________________________________________________\n",
      "dropout_26 (Dropout)         (None, 512)               0         \n",
      "_________________________________________________________________\n",
      "dense_26 (Dense)             (None, 128)               65664     \n",
      "_________________________________________________________________\n",
      "batch_normalization_18 (Batc (None, 128)               512       \n",
      "_________________________________________________________________\n",
      "dropout_27 (Dropout)         (None, 128)               0         \n",
      "_________________________________________________________________\n",
      "dense_27 (Dense)             (None, 10)                1290      \n",
      "=================================================================\n",
      "Total params: 3,210,378\n",
      "Trainable params: 3,209,098\n",
      "Non-trainable params: 1,280\n",
      "_________________________________________________________________\n"
     ]
    }
   ],
   "source": [
    "model9.summary()"
   ]
  },
  {
   "cell_type": "markdown",
   "metadata": {
    "colab_type": "text",
    "id": "HV1hbDw0xs6V"
   },
   "source": [
    "### Model 10:"
   ]
  },
  {
   "cell_type": "markdown",
   "metadata": {
    "colab_type": "text",
    "id": "43UWjlM6u_9C"
   },
   "source": [
    "**Trying to build a model similar to inception (not exactly similar) to see the effect on the model's performance. Architecture looks as below.**\n",
    "<br/><br/>\n",
    "**First we form 4 individual layers as follows from input.**<br/><br/>\n",
    "***(1x28x28 input) --(1x1 kernel)--> (32x28x28) - layer1<br/>\n",
    "(1x28x28 input) --(3x3 kernel pad)--> (32x28x28) - layer2<br/>\n",
    "(1x28x28 input) --(5x5 kernel pad)--> (32x28x28) - layer3<br/>\n",
    "(1x28x28 input) --(1x1 kernel)--> (32x28x28) --(3x3 pooling s-1 pad)--> (32x28x28) - layer4***\n",
    "<br/><br/>\n",
    "**Now above layers will be merged to form single layer and this will be fed for next layers which are as follows. (below kernels have no padding)**<br/><br/>\n",
    "***4 layers merged --> (128x28x28) --(7x7 kernel)--> (256x22x22) --(2x2 pooling s-2)--> (256x11x11) --(5x5 kernel)--> (512x7x7) --(5x5 kernel)--> (1024x3x3) --(3x3 kernel)--> (2048x1x1) --(Flatten)--> 2048 --> 512 (Dense) --> 128 (Dense) --> 10 (Softmax)***"
   ]
  },
  {
   "cell_type": "code",
   "execution_count": 37,
   "metadata": {
    "colab": {
     "base_uri": "https://localhost:8080/",
     "height": 510
    },
    "colab_type": "code",
    "id": "-AgIKDR-dgpH",
    "outputId": "190e2d9a-d02f-489a-fe54-9beee90b915a"
   },
   "outputs": [
    {
     "name": "stdout",
     "output_type": "stream",
     "text": [
      "Train on 60000 samples, validate on 10000 samples\n",
      "Epoch 1/13\n",
      "60000/60000 [==============================] - 156s 3ms/step - loss: 0.5174 - acc: 0.8457 - val_loss: 0.0573 - val_acc: 0.9828\n",
      "Epoch 2/13\n",
      "60000/60000 [==============================] - 152s 3ms/step - loss: 0.0563 - acc: 0.9847 - val_loss: 0.0436 - val_acc: 0.9874\n",
      "Epoch 3/13\n",
      "60000/60000 [==============================] - 152s 3ms/step - loss: 0.0367 - acc: 0.9897 - val_loss: 0.0307 - val_acc: 0.9913\n",
      "Epoch 4/13\n",
      "60000/60000 [==============================] - 152s 3ms/step - loss: 0.0287 - acc: 0.9918 - val_loss: 0.0281 - val_acc: 0.9919\n",
      "Epoch 5/13\n",
      "60000/60000 [==============================] - 151s 3ms/step - loss: 0.0224 - acc: 0.9937 - val_loss: 0.0255 - val_acc: 0.9928\n",
      "Epoch 6/13\n",
      "60000/60000 [==============================] - 151s 3ms/step - loss: 0.0195 - acc: 0.9946 - val_loss: 0.0235 - val_acc: 0.9936\n",
      "Epoch 7/13\n",
      "60000/60000 [==============================] - 151s 3ms/step - loss: 0.0143 - acc: 0.9963 - val_loss: 0.0266 - val_acc: 0.9929\n",
      "Epoch 8/13\n",
      "60000/60000 [==============================] - 151s 3ms/step - loss: 0.0122 - acc: 0.9965 - val_loss: 0.0296 - val_acc: 0.9926\n",
      "Epoch 9/13\n",
      "60000/60000 [==============================] - 151s 3ms/step - loss: 0.0103 - acc: 0.9970 - val_loss: 0.0275 - val_acc: 0.9934\n",
      "Epoch 10/13\n",
      "60000/60000 [==============================] - 151s 3ms/step - loss: 0.0078 - acc: 0.9979 - val_loss: 0.0254 - val_acc: 0.9941\n",
      "Epoch 11/13\n",
      "60000/60000 [==============================] - 151s 3ms/step - loss: 0.0067 - acc: 0.9983 - val_loss: 0.0330 - val_acc: 0.9928\n",
      "Epoch 12/13\n",
      "60000/60000 [==============================] - 151s 3ms/step - loss: 0.0064 - acc: 0.9982 - val_loss: 0.0246 - val_acc: 0.9933\n",
      "Epoch 13/13\n",
      "60000/60000 [==============================] - 151s 3ms/step - loss: 0.0067 - acc: 0.9980 - val_loss: 0.0287 - val_acc: 0.9944\n",
      "Test loss: 0.02869936848818943\n",
      "Test accuracy: 0.9944\n"
     ]
    }
   ],
   "source": [
    "## Building above model\n",
    "warnings.filterwarnings('ignore')\n",
    "\n",
    "## layer 1\n",
    "input_layer = keras.layers.Input(shape=input_shape)\n",
    "layer_1 = Conv2D(32, (1, 1), padding='same', activation='relu',\n",
    "                 kernel_initializer='he_normal')(input_layer)\n",
    "\n",
    "# layer 2\n",
    "layer_2 = Conv2D(32, (3, 3), padding='same', activation='relu',\n",
    "                 kernel_initializer='he_normal')(input_layer)\n",
    "\n",
    "# layer 3\n",
    "layer_3 = Conv2D(32, (5, 5), padding='same', activation='relu',\n",
    "                 kernel_initializer='he_normal')(input_layer)\n",
    "\n",
    "# layer 4\n",
    "layer_4 = Conv2D(32, (1, 1), padding='same', activation='relu',\n",
    "                 kernel_initializer='he_normal')(input_layer)\n",
    "layer_4 = MaxPooling2D(pool_size=(3, 3), padding='same', strides=(1, 1))(layer_4)\n",
    "\n",
    "# final CNN\n",
    "merged_layers = keras.layers.Concatenate(axis=-1)([layer_1, layer_2, layer_3, layer_4])\n",
    "cl1 = Conv2D(256, (7, 7), activation='relu', kernel_initializer='he_normal')(merged_layers)\n",
    "cl2 = MaxPooling2D(pool_size=(2, 2))(cl1)\n",
    "cl3 = Conv2D(512, (5, 5), activation='relu', kernel_initializer='he_normal')(cl2)\n",
    "cl4 = Conv2D(1024, (5, 5), activation='relu', kernel_initializer='he_normal')(cl3)\n",
    "cl5 = Conv2D(2048, (3, 3), activation='relu', kernel_initializer='he_normal')(cl4)\n",
    "cl6 = Dropout(0.25)(cl5)\n",
    "l1 = Flatten()(cl6)\n",
    "l2 = Dense(512, activation='relu', kernel_initializer='he_normal')(l1)\n",
    "l3 = BatchNormalization()(l2)\n",
    "l4 = Dropout(0.5)(l3)\n",
    "l5 = Dense(128, activation='relu', kernel_initializer='he_normal')(l4)\n",
    "l6 = BatchNormalization()(l5)\n",
    "l7 = Dropout(0.5)(l6)\n",
    "output_layer = Dense(num_classes, activation='softmax')(l7)\n",
    "\n",
    "model = keras.models.Model(inputs = input_layer, outputs = output_layer)\n",
    "\n",
    "model.compile(loss=keras.losses.categorical_crossentropy,\n",
    "              optimizer=keras.optimizers.Adadelta(),\n",
    "              metrics=['accuracy'])\n",
    "\n",
    "model10 = model\n",
    "history10 = model.fit(x_train, y_train,\n",
    "          batch_size=batch_size,\n",
    "          epochs=epochs,\n",
    "          verbose=1,\n",
    "          validation_data=(x_test, y_test))\n",
    "score = model.evaluate(x_test, y_test, verbose=0)\n",
    "\n",
    "print('Test loss:', score[0])\n",
    "print('Test accuracy:', score[1])"
   ]
  },
  {
   "cell_type": "code",
   "execution_count": 38,
   "metadata": {
    "colab": {
     "base_uri": "https://localhost:8080/",
     "height": 295
    },
    "colab_type": "code",
    "id": "cdIq8hZNdgpT",
    "outputId": "36bf95e5-dfbb-4cc7-f53f-4c727e71804a"
   },
   "outputs": [
    {
     "data": {
      "image/png": "[encoded data removed]",
      "text/plain": [
       "<Figure size 432x288 with 1 Axes>"
      ]
     },
     "metadata": {
      "tags": []
     },
     "output_type": "display_data"
    }
   ],
   "source": [
    "val_loss = history10.history['val_loss']\n",
    "loss = history10.history['loss']\n",
    "\n",
    "plt.plot(val_loss, color='b', label='val_loss')\n",
    "plt.plot(loss, color='g', label='train_loss')\n",
    "plt.grid()\n",
    "plt.legend()\n",
    "plt.title('Log-loss for train and test')\n",
    "plt.xlabel('epochs')\n",
    "plt.ylabel('loss')\n",
    "plt.show()"
   ]
  },
  {
   "cell_type": "markdown",
   "metadata": {
    "colab_type": "text",
    "id": "NnHjrGnpVy4K"
   },
   "source": [
    "**Even when we built complex model this didnt do as good as last 3 models (models 7, 8, 9). And results can be comparable to first 6 models. Overfitting is not as bad as other models which is good**"
   ]
  },
  {
   "cell_type": "code",
   "execution_count": 39,
   "metadata": {
    "colab": {
     "base_uri": "https://localhost:8080/",
     "height": 918
    },
    "colab_type": "code",
    "id": "VoHBStYpdgpX",
    "outputId": "e471d44c-452b-4e04-cb11-f3db34be6a44"
   },
   "outputs": [
    {
     "name": "stdout",
     "output_type": "stream",
     "text": [
      "Model: \"model_3\"\n",
      "__________________________________________________________________________________________________\n",
      "Layer (type)                    Output Shape         Param #     Connected to                     \n",
      "==================================================================================================\n",
      "input_3 (InputLayer)            (None, 28, 28, 1)    0                                            \n",
      "__________________________________________________________________________________________________\n",
      "conv2d_49 (Conv2D)              (None, 28, 28, 32)   64          input_3[0][0]                    \n",
      "__________________________________________________________________________________________________\n",
      "conv2d_46 (Conv2D)              (None, 28, 28, 32)   64          input_3[0][0]                    \n",
      "__________________________________________________________________________________________________\n",
      "conv2d_47 (Conv2D)              (None, 28, 28, 32)   320         input_3[0][0]                    \n",
      "__________________________________________________________________________________________________\n",
      "conv2d_48 (Conv2D)              (None, 28, 28, 32)   832         input_3[0][0]                    \n",
      "__________________________________________________________________________________________________\n",
      "max_pooling2d_25 (MaxPooling2D) (None, 28, 28, 32)   0           conv2d_49[0][0]                  \n",
      "__________________________________________________________________________________________________\n",
      "concatenate_3 (Concatenate)     (None, 28, 28, 128)  0           conv2d_46[0][0]                  \n",
      "                                                                 conv2d_47[0][0]                  \n",
      "                                                                 conv2d_48[0][0]                  \n",
      "                                                                 max_pooling2d_25[0][0]           \n",
      "__________________________________________________________________________________________________\n",
      "conv2d_50 (Conv2D)              (None, 22, 22, 256)  1605888     concatenate_3[0][0]              \n",
      "__________________________________________________________________________________________________\n",
      "max_pooling2d_26 (MaxPooling2D) (None, 11, 11, 256)  0           conv2d_50[0][0]                  \n",
      "__________________________________________________________________________________________________\n",
      "conv2d_51 (Conv2D)              (None, 7, 7, 512)    3277312     max_pooling2d_26[0][0]           \n",
      "__________________________________________________________________________________________________\n",
      "conv2d_52 (Conv2D)              (None, 3, 3, 1024)   13108224    conv2d_51[0][0]                  \n",
      "__________________________________________________________________________________________________\n",
      "conv2d_53 (Conv2D)              (None, 1, 1, 2048)   18876416    conv2d_52[0][0]                  \n",
      "__________________________________________________________________________________________________\n",
      "dropout_32 (Dropout)            (None, 1, 1, 2048)   0           conv2d_53[0][0]                  \n",
      "__________________________________________________________________________________________________\n",
      "flatten_12 (Flatten)            (None, 2048)         0           dropout_32[0][0]                 \n",
      "__________________________________________________________________________________________________\n",
      "dense_34 (Dense)                (None, 512)          1049088     flatten_12[0][0]                 \n",
      "__________________________________________________________________________________________________\n",
      "batch_normalization_21 (BatchNo (None, 512)          2048        dense_34[0][0]                   \n",
      "__________________________________________________________________________________________________\n",
      "dropout_33 (Dropout)            (None, 512)          0           batch_normalization_21[0][0]     \n",
      "__________________________________________________________________________________________________\n",
      "dense_35 (Dense)                (None, 128)          65664       dropout_33[0][0]                 \n",
      "__________________________________________________________________________________________________\n",
      "batch_normalization_22 (BatchNo (None, 128)          512         dense_35[0][0]                   \n",
      "__________________________________________________________________________________________________\n",
      "dropout_34 (Dropout)            (None, 128)          0           batch_normalization_22[0][0]     \n",
      "__________________________________________________________________________________________________\n",
      "dense_36 (Dense)                (None, 10)           1290        dropout_34[0][0]                 \n",
      "==================================================================================================\n",
      "Total params: 37,987,722\n",
      "Trainable params: 37,986,442\n",
      "Non-trainable params: 1,280\n",
      "__________________________________________________________________________________________________\n"
     ]
    }
   ],
   "source": [
    "model10.summary()"
   ]
  },
  {
   "cell_type": "markdown",
   "metadata": {
    "colab_type": "text",
    "id": "NLMMWFOZWnE6"
   },
   "source": [
    "## Conclusion:"
   ]
  },
  {
   "cell_type": "code",
   "execution_count": 7,
   "metadata": {
    "colab": {},
    "colab_type": "code",
    "id": "3BWuisGCQTuT"
   },
   "outputs": [
    {
     "name": "stdout",
     "output_type": "stream",
     "text": [
      "+--------------+----------------------+------------+-----------------+----------------+---------------+\n",
      "| Model number |  Model Description   | Train loss | Validation loss | Train accuracy | Test accuracy |\n",
      "+--------------+----------------------+------------+-----------------+----------------+---------------+\n",
      "|   Model 1    |    5x5 no padding    |   0.0196   |      0.0249     |    99.41 %     |    99.36 %    |\n",
      "|   Model 2    |    3x3 no padding    |   0.0151   |      0.0212     |    99.52 %     |    99.40 %    |\n",
      "|   Model 3    |    7x7 no padding    |   0.0108   |      0.0309     |    99.69 %     |    99.29 %    |\n",
      "|   Model 4    |   5x5 with padding   |   0.002    |      0.0288     |    99.94 %     |    99.37 %    |\n",
      "|   Model 5    |   3x3 with padding   |   0.0104   |      0.0241     |    99.68 %     |    99.38 %    |\n",
      "|   Model 6    |   7x7 with padding   |   0.0022   |      0.0299     |    99.94 %     |    99.38 %    |\n",
      "|   Model 7    |  Maxpool less freq   |   0.0042   |      0.0233     |    99.88 %     |    99.48 %    |\n",
      "|   Model 8    |  Maxpool less freq   |   0.0078   |      0.0196     |    99.79 %     |    99.51 %    |\n",
      "|   Model 9    |  Maxpool less freq   |   0.0035   |      0.0222     |    99.88 %     |    99.54 %    |\n",
      "|   Model 10   | Inception type model |   0.0067   |      0.0287     |    99.80 %     |    99.44 %    |\n",
      "+--------------+----------------------+------------+-----------------+----------------+---------------+\n"
     ]
    }
   ],
   "source": [
    "from prettytable import PrettyTable\n",
    "\n",
    "table = PrettyTable()\n",
    "table.field_names = ['Model number', 'Model Description', 'Train loss', 'Validation loss', 'Train accuracy', 'Test accuracy']\n",
    "table.add_row(['Model 1', '5x5 no padding', 0.0196, 0.0249, '99.41 %', '99.36 %'])\n",
    "table.add_row(['Model 2', '3x3 no padding', 0.0151, 0.0212, '99.52 %', '99.40 %'])\n",
    "table.add_row(['Model 3', '7x7 no padding', 0.0108, 0.0309, '99.69 %', '99.29 %'])\n",
    "table.add_row(['Model 4', '5x5 with padding', 0.0020, 0.0288, '99.94 %', '99.37 %'])\n",
    "table.add_row(['Model 5', '3x3 with padding', 0.0104, 0.0241, '99.68 %', '99.38 %'])\n",
    "table.add_row(['Model 6', '7x7 with padding', 0.0022, 0.0299, '99.94 %', '99.38 %'])\n",
    "table.add_row(['Model 7', 'Maxpool less freq', 0.0042, 0.0233, '99.88 %', '99.48 %'])\n",
    "table.add_row(['Model 8', 'Maxpool less freq', 0.0078, 0.0196, '99.79 %', '99.51 %'])\n",
    "table.add_row(['Model 9', 'Maxpool less freq', 0.0035, 0.0222, '99.88 %', '99.54 %'])\n",
    "table.add_row(['Model 10', 'Inception type model', 0.0067, 0.0287, '99.80 %', '99.44 %'])\n",
    "print(table)"
   ]
  },
  {
   "cell_type": "markdown",
   "metadata": {},
   "source": [
    "**Conclusion:**\n",
    "- **Accuracy wise models 7, 8, 9 are doing good. These models have less frequent Maxpooling layers than previous ones i.e. for every 2 Convolution layers there is a Maxpool layer. These models are overfitting slightly**\n",
    "- **Models 1, 2 have less overfitting and good for futher training for few more epochs. These models accuracy and losses are not that good but can be improved by further training. These models have 5x5 and 3x3 kernel layers respectively with no padding in any layers**\n",
    "- **Models with high padding layers (models 4, 5, 6) are not performing well as they are overfitting very easily and train accuracy is very high for two of these models. Accuracy is good but will not improve for further training**\n",
    "- **Model 10 has slightly complex architecture (little bit similar to inception model). This model did good but not as good as 7, 8, 9 models. So its better to prefer one of 7, 8, 9 models as model 10 has lot of parameters (around ~37.9 Million) which gives low latency.**\n",
    "- **Some models accuracy and losses are fluctuating a lot so final loss and accuracy are not best way to analyse the model. Above analysis done by seeing previous epoch scores.**"
   ]
  },
  {
   "cell_type": "markdown",
   "metadata": {},
   "source": [
    "**Architectures of all 10 models are again printed below:**"
   ]
  },
  {
   "cell_type": "markdown",
   "metadata": {},
   "source": [
    "1. ***(1x28x28) --(5x5 kernel)--> (32x24x24) --(2x2 pooling s-2)--> (32x12x12) --(5x5 kernel)--> (64x8x8) --(2x2 pooling s-2)--> (64x4x4) --(Flatten)--> 1024 --> 512 --> 128 --> 10***\n",
    "<br/><br/>\n",
    "2. ***(1x28x28) --(3x3 kernel)--> (32x26x26) --(2x2 pooling s-2)--> (32x13x13) --(3x3 kernel)--> (64x11x11) --(2x2 pooling s-1)--> (64x10x10) --(3x3 kernel)--> (128x8x8) --(2x2 pooling s-2)--> (128x4x4) --(Flatten)--> 2048 --> 512 --> 128 --> 10***\n",
    "<br/><br/>\n",
    "3. ***(1x28x28) --(7x7 kernel)--> (32x22x22) --(2x2 pooling s-2)--> (32x11x11) --(7x7 kernel)--> (64x5x5) --(2x2 pooling s-1)--> (64x4x4) --(Flatten)--> 1024 --> 512 --> 128 --> 10***\n",
    "<br/><br/>\n",
    "4. ***(1x28x28) --(5x5 kernel)--> (32x28x28) --(2x2 pooling s-2)--> (32x14x14) --(5x5 kernel)--> (128x14x14) --(2x2 pooling s-2)--> (128x7x7) --(3x3 kernel)--> (256x5x5) --(5x5 kernel)--> (512x1x1) --(Flatten)--> 512 --> 256 --> 128 --> 10***\n",
    "<br/><br/>\n",
    "5. ***(1x28x28) --(3x3 kernel)--> (32x28x28) --(2x2 pooling s-2)--> (32x14x14) --(3x3 kernel)--> (64x14x14) --(2x2 pooling s-2)--> (64x7x7) --(3x3 kernel)--> (128x5x5) --(2x2 pooling s-1)--> (128x4x4) --(Flatten)--> 2048 --> 512 --> 128 --> 10***\n",
    "<br/><br/>\n",
    "6. ***(1x28x28) --(7x7 kernel)--> (64x28x28) --(2x2 pooling s-2)--> (64x14x14) --(7x7 kernel)--> (256x14x14) --(2x2 pooling s-2)--> (256x7x7) --(7x7 kernel)--> (512x1x1) --(Flatten)--> 512 --> 256 --> 128 --> 10***\n",
    "<br/><br/>\n",
    "7. ***(1x28x28) --(5x5 kernel)--> (32x24x24) --(3x3 kernel)--> (64x22x22) --(2x2 pooling s-2)--> (64x11x11) --(5x5 kernel)--> (128x7x7) --(3x3 kernel)--> (256x5x5) --(2x2 pooling s-1)--> (256x4x4) --(Flatten)--> 4096 --> 512 --> 128 --> 10***\n",
    "<br/><br/>\n",
    "8. ***(1x28x28) --(5x5 kernel)--> (32x28x28) --(5x5 kernel)--> (64x24x24) --(2x2 pooling s-2)--> (64x12x12) --(3x3 kernel)--> (128x10x10) --(3x3 kernel)--> (256x8x8) --(2x2 pooling s-2)--> (256x4x4) --(Flatten)--> 4096 --> 512 --> 128 --> 10***\n",
    "<br/><br/>\n",
    "9. ***(1x28x28) --(3x3 kernel)--> (32x28x28) --(3x3 kernel)--> (64x26x26) --(2x2 pooling s-2)--> (64x13x13) --(5x5 kernel)--> (128x9x9) --(5x5 kernel)--> (256x5x5) --(2x2 pooling s-1)--> (256x4x4) --(Flatten)--> 4096 --> 512 --> 128 --> 10***\n",
    "<br/><br/>"
   ]
  },
  {
   "cell_type": "markdown",
   "metadata": {},
   "source": [
    "**Model 10:**<br/><br/>\n",
    "***(1x28x28 input) --(1x1 kernel)--> (32x28x28) - layer1<br/>\n",
    "(1x28x28 input) --(3x3 kernel pad)--> (32x28x28) - layer2<br/>\n",
    "(1x28x28 input) --(5x5 kernel pad)--> (32x28x28) - layer3<br/>\n",
    "(1x28x28 input) --(1x1 kernel)--> (32x28x28) --(3x3 pooling s-1 pad)--> (32x28x28) - layer4***\n",
    "<br/><br/>\n",
    "**Now above layers will be merged to form single layer and this will be fed for next layers which are as follows. (below kernels have no padding)**<br/><br/>\n",
    "***4 layers merged --> (128x28x28) --(7x7 kernel)--> (256x22x22) --(2x2 pooling s-2)--> (256x11x11) --(5x5 kernel)--> (512x7x7) --(5x5 kernel)--> (1024x3x3) --(3x3 kernel)--> (2048x1x1) --(Flatten)--> 2048 --> 512 (Dense) --> 128 (Dense) --> 10 (Softmax)***"
   ]
  },
  {
   "cell_type": "markdown",
   "metadata": {},
   "source": [
    "**Batch Normalization layers and dropout layers are not mentioned in above architectures.**"
   ]
  },
  {
   "cell_type": "code",
   "execution_count": null,
   "metadata": {},
   "outputs": [],
   "source": []
  }
 ],
 "metadata": {
  "accelerator": "GPU",
  "colab": {
   "collapsed_sections": [],
   "name": "Copy of CNN_MNIST.ipynb",
   "provenance": [],
   "version": "0.3.2"
  },
  "kernelspec": {
   "display_name": "Python 3",
   "language": "python",
   "name": "python3"
  },
  "language_info": {
   "codemirror_mode": {
    "name": "ipython",
    "version": 3
   },
   "file_extension": ".py",
   "mimetype": "text/x-python",
   "name": "python",
   "nbconvert_exporter": "python",
   "pygments_lexer": "ipython3",
   "version": "3.6.7"
  }
 },
 "nbformat": 4,
 "nbformat_minor": 1
}
